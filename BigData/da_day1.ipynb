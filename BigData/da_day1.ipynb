{
 "cells": [
  {
   "cell_type": "markdown",
   "metadata": {},
   "source": [
    "1. 오늘의 날씨 스크랩(네이버)\n",
    "2. 날씨 본문 내용을 output.txt로 저장\n",
    "3. 데이터 정제(크리닝)-영문, 특수기호 등 제거(정규식)\n",
    "4. 정제된 텍스트를 파일로 저장(output_cleaned.txt)\n",
    "5. 파일을 읽어 행태소 분석 -> 명사 추출 -> 빈도수 조사\n",
    "6. 단어별 빈도수를 파일로 저장(output_final.txt)\n",
    "7. 상위 10개 단어를 시각화 출력\n",
    "8. advanced\n",
    "9. 협업필터링/감성분석/기계학습"
   ]
  },
  {
   "cell_type": "code",
   "execution_count": 48,
   "metadata": {},
   "outputs": [],
   "source": [
    "import urllib.request as req\n",
    "from bs4 import BeautifulSoup\n",
    "URL=\"https://news.naver.com/main/read.nhn?mode=LS2D&mid=shm&sid1=103&sid2=248&oid=052&aid=0001276803\"\n",
    "OUTPUT_FILE_NAME=\"output.txt\""
   ]
  },
  {
   "cell_type": "code",
   "execution_count": 6,
   "metadata": {
    "scrolled": true
   },
   "outputs": [
    {
     "ename": "NameError",
     "evalue": "name 'OUTPUT_FILE_NAME' is not defined",
     "output_type": "error",
     "traceback": [
      "\u001b[1;31m---------------------------------------------------------------------------\u001b[0m",
      "\u001b[1;31mNameError\u001b[0m                                 Traceback (most recent call last)",
      "\u001b[1;32m<ipython-input-6-21b3b6e90a5f>\u001b[0m in \u001b[0;36m<module>\u001b[1;34m()\u001b[0m\n\u001b[1;32m----> 1\u001b[1;33m \u001b[0mopen_output_file\u001b[0m\u001b[1;33m=\u001b[0m\u001b[0mopen\u001b[0m\u001b[1;33m(\u001b[0m\u001b[0mOUTPUT_FILE_NAME\u001b[0m\u001b[1;33m,\u001b[0m\u001b[1;34m\"w\"\u001b[0m\u001b[1;33m)\u001b[0m\u001b[1;33m\u001b[0m\u001b[0m\n\u001b[0m\u001b[0;32m      2\u001b[0m \u001b[0mres\u001b[0m\u001b[1;33m=\u001b[0m\u001b[0mget_text\u001b[0m\u001b[1;33m(\u001b[0m\u001b[0mURL\u001b[0m\u001b[1;33m)\u001b[0m\u001b[1;33m\u001b[0m\u001b[0m\n\u001b[0;32m      3\u001b[0m \u001b[0mprint\u001b[0m\u001b[1;33m(\u001b[0m\u001b[0mres\u001b[0m\u001b[1;33m)\u001b[0m\u001b[1;33m\u001b[0m\u001b[0m\n\u001b[0;32m      4\u001b[0m \u001b[0mopen_output_file\u001b[0m\u001b[1;33m.\u001b[0m\u001b[0mwrite\u001b[0m\u001b[1;33m(\u001b[0m\u001b[0mres\u001b[0m\u001b[1;33m)\u001b[0m\u001b[1;33m\u001b[0m\u001b[0m\n\u001b[0;32m      5\u001b[0m \u001b[0mopen_output_file\u001b[0m\u001b[1;33m.\u001b[0m\u001b[0mclose\u001b[0m\u001b[1;33m(\u001b[0m\u001b[1;33m)\u001b[0m\u001b[1;33m\u001b[0m\u001b[0m\n",
      "\u001b[1;31mNameError\u001b[0m: name 'OUTPUT_FILE_NAME' is not defined"
     ]
    }
   ],
   "source": [
    "open_output_file=open(OUTPUT_FILE_NAME,\"w\")\n",
    "res=get_text(URL)\n",
    "print(res)\n",
    "open_output_file.write(res)\n",
    "open_output_file.close()"
   ]
  },
  {
   "cell_type": "code",
   "execution_count": 7,
   "metadata": {},
   "outputs": [],
   "source": [
    "def get_text(url):\n",
    "    sourceFromURL=req.urlopen(url)\n",
    "    soup=BeautifulSoup(sourceFromURL,\"html.parser\", from_encoding='utf-8')\n",
    "    #print(soup)\n",
    "    text=\"\"  #text에 저장\n",
    "    for item in soup.find_all('div', id='articleBodyContents'):\n",
    "#         print(item)\n",
    "        text=text+str(item.find_all(text=True))\n",
    "#         print(text)\n",
    "#         print(\"=\"*50)\n",
    "    return text\n",
    "#     print(len(text))"
   ]
  },
  {
   "cell_type": "code",
   "execution_count": 12,
   "metadata": {},
   "outputs": [],
   "source": [
    "import re\n",
    "INPUT_FILE_NAME='output.txt'\n",
    "OUTPUT_FILE_NAME='output_cleaned.txt'"
   ]
  },
  {
   "cell_type": "code",
   "execution_count": 14,
   "metadata": {},
   "outputs": [
    {
     "name": "stdout",
     "output_type": "stream",
     "text": [
      "before:\n",
      "['\\n', ' 본문 내용 ', '\\n', ' TV플레이어 ', '\\n', '\\n', '동영상 뉴스', '\\n', '\\n', '\\n', ' // TV플레이어 ', '\\n', '\\n// flash 오류를 우회하기 위한 함수 추가\\nfunction _flash_removeCallback() {}\\n', '\\n\\t\\n\\t날씨가 요즘만 같으면 참 좋겠다 싶습니다.', '파란 하늘 아래 미세먼지 걱정 없고 낮에는 따뜻한 봄 날씨를 느끼기 제격인데요.', '오늘 서울 아침 기온 7.6도로 다소 쌀쌀했지만, 한낮에는 17도까지 올라 일교차가 크게 벌어지겠습니다.', '바람이 약해졌던 서해안과 강원 영동, 경북 동해안에는 오늘 바람이 강하게 붑니다.', '건조한 날씨에 바람까지 강해 화재 위험이 높은 만큼 불씨 관리 철저히 해주셔야겠습니다.', '현재 전국 대부분 지방에 건조특보가 내려져 있습니다.', \"산림청은 지난 목요일부터 산불 경보를 가장 높은 단계인 '심각' 단계로 격상해 발령 중입니다.\", '논·밭두렁, 쓰레기 소각을 금지해주시고, 산림과 산림 근처에서도 불 사용을 금지해주시기 바랍니다.', '오늘 맑은 날씨 속에 한낮에는 따뜻하겠습니다.', '낮 기온, 서울 17도, 대전 18도, 광주와 대구 20도로 아침과 낮의 기온 차가 10도 이상 크게 벌어지겠습니다.', '내일과 모레 사이 전국에 비가 내리겠고요.', '비가 내리면서 장기간 이어졌던 건조함은 해소될 전망입니다.', '산불이 났던 강원도에는 최고 40밀리미터의 비가, 기온이 낮은 산간에는 10cm 이상의 많은 눈이 내리겠고요.', '제주 산간에 많은 곳은 120mm 이상의 폭우가 예상됩니다.', '비와 눈으로 인한 피해 없도록 주변 점검 철저히 해주시기 바랍니다.', '지금까지 YTN 유다현입니다.', ' ▶ 대한민국 24시간 뉴스 채널 YTN 생방송보기 ', ' ▶ 네이버에서 YTN 뉴스 채널 구독하기 ', '[저작권자(c) YTN & YTN PLUS 무단전재 및 재배포 금지]\\n\\t', ' // 본문 내용 ', '\\n']\n",
      "after:\n",
      ",  본문 내용 , ,  플레이어 , , , 동영상 뉴스, , , ,   플레이어 , ,   오류를 우회하기 위한 함수 추가  , 날씨가 요즘만 같으면 참 좋겠다 싶습니다, 파란 하늘 아래 미세먼지 걱정 없고 낮에는 따뜻한 봄 날씨를 느끼기 제격인데요, 오늘 서울 아침 기온 76도로 다소 쌀쌀했지만, 한낮에는 17도까지 올라 일교차가 크게 벌어지겠습니다, 바람이 약해졌던 서해안과 강원 영동, 경북 동해안에는 오늘 바람이 강하게 붑니다, 건조한 날씨에 바람까지 강해 화재 위험이 높은 만큼 불씨 관리 철저히 해주셔야겠습니다, 현재 전국 대부분 지방에 건조특보가 내려져 있습니다, 산림청은 지난 목요일부터 산불 경보를 가장 높은 단계인 심각 단계로 격상해 발령 중입니다, 논·밭두렁, 쓰레기 소각을 금지해주시고, 산림과 산림 근처에서도 불 사용을 금지해주시기 바랍니다, 오늘 맑은 날씨 속에 한낮에는 따뜻하겠습니다, 낮 기온, 서울 17도, 대전 18도, 광주와 대구 20도로 아침과 낮의 기온 차가 10도 이상 크게 벌어지겠습니다, 내일과 모레 사이 전국에 비가 내리겠고요, 비가 내리면서 장기간 이어졌던 건조함은 해소될 전망입니다, 산불이 났던 강원도에는 최고 40밀리미터의 비가, 기온이 낮은 산간에는 10 이상의 많은 눈이 내리겠고요, 제주 산간에 많은 곳은 120 이상의 폭우가 예상됩니다, 비와 눈으로 인한 피해 없도록 주변 점검 철저히 해주시기 바랍니다, 지금까지  유다현입니다,   대한민국 24시간 뉴스 채널  생방송보기 ,   네이버에서  뉴스 채널 구독하기 , 저작권자     무단전재 및 재배포 금지,   본문 내용 , \n"
     ]
    }
   ],
   "source": [
    "read_file=open(INPUT_FILE_NAME, \"r\")\n",
    "write_file=open(OUTPUT_FILE_NAME, \"w\")\n",
    "text=read_file.read()\n",
    "print(\"before:\")\n",
    "print(text)\n",
    "cleaned_text=clean_text(text)\n",
    "print(\"after:\")\n",
    "print(cleaned_text)\n",
    "output_cleaned=write_file.write(cleaned_text)\n",
    "read_file.close()\n",
    "write_file.close()"
   ]
  },
  {
   "cell_type": "code",
   "execution_count": 13,
   "metadata": {},
   "outputs": [],
   "source": [
    "def clean_text(myText):\n",
    "    cleaned_text=re.sub('[a-zA-Z]' , '', myText)\n",
    "    cleaned_text=re.sub('[\\{\\}\\[\\]\\(\\)\\/_▶&\\\\\\.\\'\\\"]' , '', cleaned_text)\n",
    "#     print(cleaned_text)  \n",
    "    return cleaned_text"
   ]
  },
  {
   "cell_type": "code",
   "execution_count": 22,
   "metadata": {},
   "outputs": [
    {
     "name": "stderr",
     "output_type": "stream",
     "text": [
      "C:\\Users\\B-7\\Anaconda3\\lib\\site-packages\\konlpy\\tag\\_okt.py:16: UserWarning: \"Twitter\" has changed to \"Okt\" since KoNLPy v0.4.5.\n",
      "  warn('\"Twitter\" has changed to \"Okt\" since KoNLPy v0.4.5.')\n"
     ]
    }
   ],
   "source": [
    "from konlpy.tag import Twitter\n",
    "tw=Twitter()"
   ]
  },
  {
   "cell_type": "code",
   "execution_count": 23,
   "metadata": {},
   "outputs": [],
   "source": [
    "ma=tw.pos(\"아버지가방에들어가신다\")"
   ]
  },
  {
   "cell_type": "code",
   "execution_count": 24,
   "metadata": {},
   "outputs": [
    {
     "name": "stdout",
     "output_type": "stream",
     "text": [
      "[('아버지', 'Noun'), ('가방', 'Noun'), ('에', 'Josa'), ('들어가신다', 'Verb')]\n"
     ]
    }
   ],
   "source": [
    "print(ma)"
   ]
  },
  {
   "cell_type": "code",
   "execution_count": 25,
   "metadata": {},
   "outputs": [
    {
     "data": {
      "text/plain": [
       "[('이', 'Determiner'),\n",
       " ('것', 'Noun'),\n",
       " ('도', 'Josa'),\n",
       " ('되다', 'Verb'),\n",
       " ('ㅋㅋㅎㅎㅎ', 'KoreanParticle'),\n",
       " ('되다', 'Verb')]"
      ]
     },
     "execution_count": 25,
     "metadata": {},
     "output_type": "execute_result"
    }
   ],
   "source": [
    "tw.pos(u'이것도 되나욬ㅋㅋㅎㅎㅎ되네', norm=True, stem=True)"
   ]
  },
  {
   "cell_type": "code",
   "execution_count": 26,
   "metadata": {},
   "outputs": [
    {
     "name": "stdout",
     "output_type": "stream",
     "text": [
      "Counter({'r': 3, 'g': 2, 'b': 1})\n",
      "[('r', 3), ('g', 2), ('b', 1)]\n"
     ]
    }
   ],
   "source": [
    "from collections import Counter\n",
    "colors=['r','b','r','r','g','g']\n",
    "cnt=Counter(colors)\n",
    "print(cnt)\n",
    "print(cnt.most_common())"
   ]
  },
  {
   "cell_type": "code",
   "execution_count": 31,
   "metadata": {},
   "outputs": [],
   "source": [
    "def get_tags(gtext, ntags=20):\n",
    "    twitter=Twitter()\n",
    "    nouns=twitter.nouns(gtext)\n",
    "#     print(nouns)\n",
    "    count=Counter(nouns)\n",
    "#     print(count)\n",
    "#     print(count.most_common(ntags))\n",
    "    return_list=[]\n",
    "    for word, cnt in count.most_common(ntags):\n",
    "#         print(word, cnt)\n",
    "        temp={'tag':word, 'count':cnt}\n",
    "        return_list.append(temp)\n",
    "    return return_list"
   ]
  },
  {
   "cell_type": "code",
   "execution_count": 36,
   "metadata": {},
   "outputs": [
    {
     "name": "stderr",
     "output_type": "stream",
     "text": [
      "C:\\Users\\B-7\\Anaconda3\\lib\\site-packages\\konlpy\\tag\\_okt.py:16: UserWarning: \"Twitter\" has changed to \"Okt\" since KoNLPy v0.4.5.\n",
      "  warn('\"Twitter\" has changed to \"Okt\" since KoNLPy v0.4.5.')\n"
     ]
    }
   ],
   "source": [
    "text_file_name='output_cleaned.txt'\n",
    "noun_count=10\n",
    "output_file_name='output_final.txt'\n",
    "open_text_file=open(text_file_name,'r')\n",
    "text=open_text_file.read()\n",
    "res=get_tags(text, noun_count)\n",
    "\n",
    "open_output_file=open(output_file_name, \"w\")\n",
    "\n",
    "for data in res:\n",
    "    noun=data['tag']\n",
    "    count=data['count']\n",
    "    open_output_file.write(\"{} {}\\n\".format(noun,count))\n",
    "    \n",
    "# print(res)\n",
    "# print(text)"
   ]
  },
  {
   "cell_type": "code",
   "execution_count": 29,
   "metadata": {},
   "outputs": [
    {
     "name": "stdout",
     "output_type": "stream",
     "text": [
      "\n"
     ]
    },
    {
     "ename": "ValueError",
     "evalue": "not enough values to unpack (expected 2, got 1)",
     "output_type": "error",
     "traceback": [
      "\u001b[1;31m---------------------------------------------------------------------------\u001b[0m",
      "\u001b[1;31mValueError\u001b[0m                                Traceback (most recent call last)",
      "\u001b[1;32m<ipython-input-29-6d5edaf45035>\u001b[0m in \u001b[0;36m<module>\u001b[1;34m()\u001b[0m\n\u001b[0;32m      8\u001b[0m     \u001b[0mline\u001b[0m\u001b[1;33m=\u001b[0m\u001b[0mf\u001b[0m\u001b[1;33m.\u001b[0m\u001b[0mreadline\u001b[0m\u001b[1;33m(\u001b[0m\u001b[1;33m)\u001b[0m\u001b[1;33m\u001b[0m\u001b[0m\n\u001b[0;32m      9\u001b[0m     \u001b[0mprint\u001b[0m\u001b[1;33m(\u001b[0m\u001b[0mline\u001b[0m\u001b[1;33m)\u001b[0m\u001b[1;33m\u001b[0m\u001b[0m\n\u001b[1;32m---> 10\u001b[1;33m     \u001b[0mword\u001b[0m\u001b[1;33m,\u001b[0m \u001b[0mcount\u001b[0m \u001b[1;33m=\u001b[0m \u001b[0mline\u001b[0m\u001b[1;33m.\u001b[0m\u001b[0msplit\u001b[0m\u001b[1;33m(\u001b[0m\u001b[1;34m\" \"\u001b[0m\u001b[1;33m)\u001b[0m\u001b[1;33m\u001b[0m\u001b[0m\n\u001b[0m\u001b[0;32m     11\u001b[0m     \u001b[0mnews_word\u001b[0m\u001b[1;33m.\u001b[0m\u001b[0mappend\u001b[0m\u001b[1;33m(\u001b[0m\u001b[0mword\u001b[0m\u001b[1;33m)\u001b[0m\u001b[1;33m\u001b[0m\u001b[0m\n\u001b[0;32m     12\u001b[0m     \u001b[0mword_cnt\u001b[0m\u001b[1;33m.\u001b[0m\u001b[0mappend\u001b[0m\u001b[1;33m(\u001b[0m\u001b[0mint\u001b[0m\u001b[1;33m(\u001b[0m\u001b[0mcount\u001b[0m\u001b[1;33m[\u001b[0m\u001b[1;36m0\u001b[0m\u001b[1;33m]\u001b[0m\u001b[1;33m)\u001b[0m\u001b[1;33m)\u001b[0m\u001b[1;33m\u001b[0m\u001b[0m\n",
      "\u001b[1;31mValueError\u001b[0m: not enough values to unpack (expected 2, got 1)"
     ]
    }
   ],
   "source": [
    "from matplotlib import pyplot as plt\n",
    "import matplotlib\n",
    "f=open(\"output_final.txt\", \"r\")\n",
    "news_word=[]\n",
    "word_cnt=[]\n",
    "i=1\n",
    "while True: #줄의 마지막까지 읽게 됨\n",
    "    line=f.readline()\n",
    "    print(line)\n",
    "    word, count = line.split(\" \")\n",
    "    news_word.append(word)\n",
    "    word_cnt.append(int(count[0]))\n",
    "    if i==10:break\n",
    "    i+=1\n",
    "f.close()\n",
    "print(news_word)\n",
    "print(word_cnt)"
   ]
  },
  {
   "cell_type": "code",
   "execution_count": 32,
   "metadata": {},
   "outputs": [
    {
     "name": "stdout",
     "output_type": "stream",
     "text": [
      "[]\n"
     ]
    },
    {
     "data": {
      "image/png": "[encoded data removed]",
      "text/plain": [
       "<Figure size 432x288 with 1 Axes>"
      ]
     },
     "metadata": {},
     "output_type": "display_data"
    }
   ],
   "source": [
    "from matplotlib import font_manager, rc\n",
    "import platform\n",
    "if platform.system()==\"Windows\":\n",
    "    font_name=font_manager.FontProperties(fname=\"c:/Windows/Fonts/malgun.ttf\").get_name()\n",
    "    rc('font', family=font_name)\n",
    "matplotlib.rcParams['axes.unicode_minus']=False\n",
    "\n",
    "xs=[i for i, _ in enumerate(news_word)]\n",
    "print(xs)\n",
    "plt.bar(xs,word_cnt)\n",
    "plt.ylabel('등장 단어의 수')\n",
    "plt.title('오늘의 날씨 키워드')\n",
    "plt.xticks([i for i,_ in enumerate(news_word)],news_word)\n",
    "plt.show()"
   ]
  },
  {
   "cell_type": "code",
   "execution_count": null,
   "metadata": {},
   "outputs": [],
   "source": []
  }
 ],
 "metadata": {
  "kernelspec": {
   "display_name": "Python 3",
   "language": "python",
   "name": "python3"
  },
  "language_info": {
   "codemirror_mode": {
    "name": "ipython",
    "version": 3
   },
   "file_extension": ".py",
   "mimetype": "text/x-python",
   "name": "python",
   "nbconvert_exporter": "python",
   "pygments_lexer": "ipython3",
   "version": "3.6.5"
  }
 },
 "nbformat": 4,
 "nbformat_minor": 2
}
