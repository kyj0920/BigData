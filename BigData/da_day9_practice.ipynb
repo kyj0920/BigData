{
 "cells": [
  {
   "cell_type": "markdown",
   "metadata": {},
   "source": [
    "* 연습 문제 \n",
    "* 1. A, B, C 세 회사의 주식은 각각 100만원, 80만원, 50만원이다. 이 주식을 각각 3주, 4주, 5주를 매수할 때 필요한 금액을 구하고자 한다.\n",
    "* (1) 주식의 가격과 수량을 각각  p  벡터,  n  벡터로 표시하고 NumPy로 코딩한다.\n",
    "* (2) 주식을 매수할 때 필요한 금액을 곱셈으로 표시하고 NumPy 연산으로 그 값을 계산한다.\n",
    "\n"
   ]
  },
  {
   "cell_type": "code",
   "execution_count": 55,
   "metadata": {},
   "outputs": [],
   "source": [
    "import numpy as np\n",
    "from math import sqrt\n"
   ]
  },
  {
   "cell_type": "code",
   "execution_count": 56,
   "metadata": {},
   "outputs": [
    {
     "data": {
      "text/plain": [
       "8700000"
      ]
     },
     "execution_count": 56,
     "metadata": {},
     "output_type": "execute_result"
    }
   ],
   "source": [
    "p=np.array([[1000000],[800000],[500000]])\n",
    "n=np.array([[3],[4],[5]])\n",
    "\n",
    "np.shape(p)\n",
    "np.shape(n)\n",
    "\n",
    "np.shape(p.T)\n",
    "res=np.dot(p.T,n)\n",
    "np.shape(res)\n",
    "\n",
    "res[0][0] \n"
   ]
  },
  {
   "cell_type": "markdown",
   "metadata": {},
   "source": [
    "\n",
    "* 2. 추천시스템 구현(영화)\n"
   ]
  },
  {
   "cell_type": "code",
   "execution_count": 61,
   "metadata": {},
   "outputs": [],
   "source": [
    "critics = {\n",
    "    '나': {\n",
    "        '생일': 4.0,\n",
    "        '요로나의 저주': 3.5,\n",
    "        '미성년': 1.5,\n",
    "        '헬보이': 2.5\n",
    "    },\n",
    "    '신우': {\n",
    "        '생일': 4.5,\n",
    "        '미성년': 1.5,\n",
    "        '헬보이': 2.5,\n",
    "        '왓칭': 2.0,\n",
    "        '돈': 1.0\n",
    "    },\n",
    "    '혜인': {\n",
    "        '생일': 3.0,\n",
    "        '요로나의 저주': 3.5,\n",
    "        '바이스': 3.0,\n",
    "        '나의 특별한 형제': 4.0,\n",
    "        '헬보이': 2.0\n",
    "    }\n",
    "}"
   ]
  },
  {
   "cell_type": "code",
   "execution_count": 62,
   "metadata": {},
   "outputs": [],
   "source": [
    "def sim_pearson(data, name1, name2):\n",
    "    sumX=0       # X의 합\n",
    "    sumY=0       # X의 합\n",
    "    sumPowX=0    # X 제곱의 합\n",
    "    sumPowY=0    # Y 제곱의 합\n",
    "    sumXY=0      # X*Y의 합\n",
    "    count=0      # 영화 개수\n",
    "    \n",
    "    for i in data[name1]: \n",
    "        if i in data[name2]: \n",
    "            sumX+=data[name1][i]\n",
    "            sumY+=data[name2][i]\n",
    "            sumPowX+=pow(data[name1][i],2)\n",
    "            sumPowY+=pow(data[name2][i],2)\n",
    "            sumXY+=data[name1][i]*data[name2][i]\n",
    "            count+=1\n",
    "            \n",
    "    return (sumXY-(sumX*sumY)/count) / sqrt((sumPowX-pow(sumX,2)/count) * (sumPowY-pow(sumY,2)/count))    "
   ]
  },
  {
   "cell_type": "code",
   "execution_count": 63,
   "metadata": {},
   "outputs": [],
   "source": [
    "def top_match(data, name, index=3, sf=sim_pearson):  \n",
    "    myList=[]\n",
    "    for i in data: \n",
    "        if name != i: \n",
    "            myList.append((sf(data, name, i),i)) \n",
    "            \n",
    "    myList.sort() \n",
    "    myList.reverse() \n",
    "    return myList[:index]  \n"
   ]
  },
  {
   "cell_type": "code",
   "execution_count": 64,
   "metadata": {},
   "outputs": [
    {
     "data": {
      "text/plain": [
       "[(0.9971764649527373, '신우'), (0.7857142857142871, '혜인')]"
      ]
     },
     "execution_count": 64,
     "metadata": {},
     "output_type": "execute_result"
    }
   ],
   "source": [
    "top_match(critics, \"나\")\n"
   ]
  },
  {
   "cell_type": "code",
   "execution_count": null,
   "metadata": {},
   "outputs": [],
   "source": []
  },
  {
   "cell_type": "code",
   "execution_count": null,
   "metadata": {},
   "outputs": [],
   "source": []
  }
 ],
 "metadata": {
  "kernelspec": {
   "display_name": "Python 3",
   "language": "python",
   "name": "python3"
  },
  "language_info": {
   "codemirror_mode": {
    "name": "ipython",
    "version": 3
   },
   "file_extension": ".py",
   "mimetype": "text/x-python",
   "name": "python",
   "nbconvert_exporter": "python",
   "pygments_lexer": "ipython3",
   "version": "3.6.5"
  }
 },
 "nbformat": 4,
 "nbformat_minor": 2
}
