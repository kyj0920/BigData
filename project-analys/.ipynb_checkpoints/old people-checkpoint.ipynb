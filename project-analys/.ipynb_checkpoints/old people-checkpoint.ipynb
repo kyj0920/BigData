{
 "cells": [
  {
   "cell_type": "code",
   "execution_count": 2,
   "metadata": {},
   "outputs": [],
   "source": [
    "import pandas as pd\n",
    "import numpy as np\n",
    "import matplotlib.pyplot as plt\n",
    "import re\n",
    "import folium\n",
    "from plotnine import *"
   ]
  },
  {
   "cell_type": "code",
   "execution_count": 203,
   "metadata": {},
   "outputs": [],
   "source": [
    "total_people=pd.read_csv(\"total people.csv\", encoding='euc-kr')\n",
    "old_people=pd.read_csv(\"old people.csv\", encoding='euc-kr')\n",
    "goryeong=pd.read_csv(\"goryeong.csv\", encoding='euc-kr')"
   ]
  },
  {
   "cell_type": "code",
   "execution_count": 74,
   "metadata": {
    "scrolled": true
   },
   "outputs": [],
   "source": [
    "import matplotlib\n",
    "from matplotlib import font_manager, rc\n",
    "import platform\n",
    "if platform.system()==\"Windows\":\n",
    "    font_name=font_manager.FontProperties(fname=\"c:/Windows/Fonts/malgun.ttf\").get_name()\n",
    "    rc('font', family=font_name)\n",
    "matplotlib.rcParams['axes.unicode_minus']=False"
   ]
  },
  {
   "cell_type": "code",
   "execution_count": 75,
   "metadata": {
    "scrolled": true
   },
   "outputs": [],
   "source": [
    "total_people.index=total_people['행정구역']\n",
    "total_people=total_people.drop(['행정구역'], axis=1)"
   ]
  },
  {
   "cell_type": "code",
   "execution_count": 76,
   "metadata": {
    "scrolled": true
   },
   "outputs": [],
   "source": [
    "total_people['2008']=pd.to_numeric(total_people[\"2008\"].str.replace(\",\",\"\"), errors='coerce')\n",
    "total_people['2009']=pd.to_numeric(total_people[\"2009\"].str.replace(\",\",\"\"), errors='coerce')\n",
    "total_people['2010']=pd.to_numeric(total_people[\"2010\"].str.replace(\",\",\"\"), errors='coerce')\n",
    "total_people['2011']=pd.to_numeric(total_people[\"2011\"].str.replace(\",\",\"\"), errors='coerce')\n",
    "total_people['2012']=pd.to_numeric(total_people[\"2012\"].str.replace(\",\",\"\"), errors='coerce')\n",
    "total_people['2013']=pd.to_numeric(total_people[\"2013\"].str.replace(\",\",\"\"), errors='coerce')\n",
    "total_people['2014']=pd.to_numeric(total_people[\"2014\"].str.replace(\",\",\"\"), errors='coerce')\n",
    "total_people['2015']=pd.to_numeric(total_people[\"2015\"].str.replace(\",\",\"\"), errors='coerce')\n",
    "total_people['2016']=pd.to_numeric(total_people[\"2016\"].str.replace(\",\",\"\"), errors='coerce')\n",
    "total_people['2017']=pd.to_numeric(total_people[\"2017\"].str.replace(\",\",\"\"), errors='coerce')\n",
    "total_people['2018']=pd.to_numeric(total_people[\"2018\"].str.replace(\",\",\"\"), errors='coerce')\n"
   ]
  },
  {
   "cell_type": "code",
   "execution_count": 77,
   "metadata": {
    "scrolled": true
   },
   "outputs": [],
   "source": [
    "total_people\n",
    "total_people.drop(columns=['2008','2009','2010','2011'], inplace=True)"
   ]
  },
  {
   "cell_type": "code",
   "execution_count": 78,
   "metadata": {},
   "outputs": [
    {
     "data": {
      "text/plain": [
       "2012    50948272\n",
       "2013    51141463\n",
       "2014    51327916\n",
       "2015    51529338\n",
       "2016    51696216\n",
       "2017    51778544\n",
       "2018    51826059\n",
       "Name: 전국, dtype: int64"
      ]
     },
     "execution_count": 78,
     "metadata": {},
     "output_type": "execute_result"
    }
   ],
   "source": [
    "total_people\n",
    "total=total_people.loc['전국']\n",
    "total"
   ]
  },
  {
   "cell_type": "code",
   "execution_count": 79,
   "metadata": {
    "scrolled": false
   },
   "outputs": [],
   "source": [
    "# old_people.index=old_people['행정구역']\n",
    "# old_people=old_people.drop(['행정구역'], axis=1)|\n",
    "# old_people[\"2008\"].str.replace(\",\",\"\")"
   ]
  },
  {
   "cell_type": "code",
   "execution_count": 80,
   "metadata": {},
   "outputs": [],
   "source": [
    "old_people['2008']=pd.to_numeric(old_people[\"2008\"].str.replace(\",\",\"\"), errors='coerce')\n",
    "old_people['2009']=pd.to_numeric(old_people[\"2009\"].str.replace(\",\",\"\"), errors='coerce')\n",
    "old_people['2010']=pd.to_numeric(old_people[\"2010\"].str.replace(\",\",\"\"), errors='coerce')\n",
    "old_people['2011']=pd.to_numeric(old_people[\"2011\"].str.replace(\",\",\"\"), errors='coerce')\n",
    "old_people['2012']=pd.to_numeric(old_people[\"2012\"].str.replace(\",\",\"\"), errors='coerce')\n",
    "old_people['2013']=pd.to_numeric(old_people[\"2013\"].str.replace(\",\",\"\"), errors='coerce')\n",
    "old_people['2014']=pd.to_numeric(old_people[\"2014\"].str.replace(\",\",\"\"), errors='coerce')\n",
    "old_people['2015']=pd.to_numeric(old_people[\"2015\"].str.replace(\",\",\"\"), errors='coerce')\n",
    "old_people['2016']=pd.to_numeric(old_people[\"2016\"].str.replace(\",\",\"\"), errors='coerce')\n",
    "old_people['2017']=pd.to_numeric(old_people[\"2017\"].str.replace(\",\",\"\"), errors='coerce')\n",
    "old_people['2018']=pd.to_numeric(old_people[\"2018\"].str.replace(\",\",\"\"), errors='coerce')"
   ]
  },
  {
   "cell_type": "code",
   "execution_count": 81,
   "metadata": {
    "scrolled": true
   },
   "outputs": [
    {
     "data": {
      "text/html": [
       "<div>\n",
       "<style scoped>\n",
       "    .dataframe tbody tr th:only-of-type {\n",
       "        vertical-align: middle;\n",
       "    }\n",
       "\n",
       "    .dataframe tbody tr th {\n",
       "        vertical-align: top;\n",
       "    }\n",
       "\n",
       "    .dataframe thead th {\n",
       "        text-align: right;\n",
       "    }\n",
       "</style>\n",
       "<table border=\"1\" class=\"dataframe\">\n",
       "  <thead>\n",
       "    <tr style=\"text-align: right;\">\n",
       "      <th></th>\n",
       "      <th>행정구역</th>\n",
       "      <th>2008</th>\n",
       "      <th>2009</th>\n",
       "      <th>2010</th>\n",
       "      <th>2011</th>\n",
       "      <th>2012</th>\n",
       "      <th>2013</th>\n",
       "      <th>2014</th>\n",
       "      <th>2015</th>\n",
       "      <th>2016</th>\n",
       "      <th>2017</th>\n",
       "      <th>2018</th>\n",
       "    </tr>\n",
       "  </thead>\n",
       "  <tbody>\n",
       "    <tr>\n",
       "      <th>0</th>\n",
       "      <td>전국</td>\n",
       "      <td>7110229.0</td>\n",
       "      <td>7401159.0</td>\n",
       "      <td>7782587.0</td>\n",
       "      <td>8020279.0</td>\n",
       "      <td>8408663</td>\n",
       "      <td>8737654</td>\n",
       "      <td>9147370</td>\n",
       "      <td>9656763</td>\n",
       "      <td>10134728</td>\n",
       "      <td>10666349</td>\n",
       "      <td>11193257</td>\n",
       "    </tr>\n",
       "    <tr>\n",
       "      <th>1</th>\n",
       "      <td>서울특별시</td>\n",
       "      <td>1342702.0</td>\n",
       "      <td>1408317.0</td>\n",
       "      <td>1504667.0</td>\n",
       "      <td>1543069.0</td>\n",
       "      <td>1619521</td>\n",
       "      <td>1683046</td>\n",
       "      <td>1759482</td>\n",
       "      <td>1847676</td>\n",
       "      <td>1923213</td>\n",
       "      <td>2006472</td>\n",
       "      <td>2084246</td>\n",
       "    </tr>\n",
       "    <tr>\n",
       "      <th>2</th>\n",
       "      <td>부산광역시</td>\n",
       "      <td>538619.0</td>\n",
       "      <td>565237.0</td>\n",
       "      <td>599836.0</td>\n",
       "      <td>623335.0</td>\n",
       "      <td>657106</td>\n",
       "      <td>686144</td>\n",
       "      <td>720268</td>\n",
       "      <td>762654</td>\n",
       "      <td>798789</td>\n",
       "      <td>837866</td>\n",
       "      <td>874182</td>\n",
       "    </tr>\n",
       "    <tr>\n",
       "      <th>3</th>\n",
       "      <td>대구광역시</td>\n",
       "      <td>331818.0</td>\n",
       "      <td>347399.0</td>\n",
       "      <td>366227.0</td>\n",
       "      <td>380433.0</td>\n",
       "      <td>401870</td>\n",
       "      <td>419926</td>\n",
       "      <td>438702</td>\n",
       "      <td>462409</td>\n",
       "      <td>485662</td>\n",
       "      <td>510382</td>\n",
       "      <td>532908</td>\n",
       "    </tr>\n",
       "    <tr>\n",
       "      <th>4</th>\n",
       "      <td>인천광역시</td>\n",
       "      <td>311800.0</td>\n",
       "      <td>327442.0</td>\n",
       "      <td>346561.0</td>\n",
       "      <td>360437.0</td>\n",
       "      <td>384237</td>\n",
       "      <td>404699</td>\n",
       "      <td>429563</td>\n",
       "      <td>461292</td>\n",
       "      <td>490540</td>\n",
       "      <td>523893</td>\n",
       "      <td>558602</td>\n",
       "    </tr>\n",
       "    <tr>\n",
       "      <th>5</th>\n",
       "      <td>광주광역시</td>\n",
       "      <td>171348.0</td>\n",
       "      <td>180378.0</td>\n",
       "      <td>190347.0</td>\n",
       "      <td>197801.0</td>\n",
       "      <td>207611</td>\n",
       "      <td>215273</td>\n",
       "      <td>224771</td>\n",
       "      <td>236357</td>\n",
       "      <td>246989</td>\n",
       "      <td>259819</td>\n",
       "      <td>272334</td>\n",
       "    </tr>\n",
       "    <tr>\n",
       "      <th>6</th>\n",
       "      <td>대전광역시</td>\n",
       "      <td>170873.0</td>\n",
       "      <td>179141.0</td>\n",
       "      <td>189437.0</td>\n",
       "      <td>196937.0</td>\n",
       "      <td>207941</td>\n",
       "      <td>217453</td>\n",
       "      <td>229976</td>\n",
       "      <td>243621</td>\n",
       "      <td>257327</td>\n",
       "      <td>271745</td>\n",
       "      <td>285272</td>\n",
       "    </tr>\n",
       "    <tr>\n",
       "      <th>7</th>\n",
       "      <td>울산광역시</td>\n",
       "      <td>104563.0</td>\n",
       "      <td>110475.0</td>\n",
       "      <td>118181.0</td>\n",
       "      <td>124893.0</td>\n",
       "      <td>133844</td>\n",
       "      <td>142401</td>\n",
       "      <td>152208</td>\n",
       "      <td>164509</td>\n",
       "      <td>175893</td>\n",
       "      <td>188429</td>\n",
       "      <td>201236</td>\n",
       "    </tr>\n",
       "    <tr>\n",
       "      <th>8</th>\n",
       "      <td>세종특별자치시</td>\n",
       "      <td>NaN</td>\n",
       "      <td>NaN</td>\n",
       "      <td>NaN</td>\n",
       "      <td>NaN</td>\n",
       "      <td>22906</td>\n",
       "      <td>23913</td>\n",
       "      <td>26728</td>\n",
       "      <td>31351</td>\n",
       "      <td>34910</td>\n",
       "      <td>39401</td>\n",
       "      <td>43947</td>\n",
       "    </tr>\n",
       "    <tr>\n",
       "      <th>9</th>\n",
       "      <td>경기도</td>\n",
       "      <td>1306582.0</td>\n",
       "      <td>1371321.0</td>\n",
       "      <td>1456012.0</td>\n",
       "      <td>1509529.0</td>\n",
       "      <td>1601518</td>\n",
       "      <td>1681601</td>\n",
       "      <td>1780595</td>\n",
       "      <td>1912653</td>\n",
       "      <td>2044471</td>\n",
       "      <td>2188530</td>\n",
       "      <td>2346568</td>\n",
       "    </tr>\n",
       "    <tr>\n",
       "      <th>10</th>\n",
       "      <td>강원도</td>\n",
       "      <td>282916.0</td>\n",
       "      <td>289564.0</td>\n",
       "      <td>299088.0</td>\n",
       "      <td>304331.0</td>\n",
       "      <td>318860</td>\n",
       "      <td>329876</td>\n",
       "      <td>344204</td>\n",
       "      <td>360910</td>\n",
       "      <td>377649</td>\n",
       "      <td>397313</td>\n",
       "      <td>416228</td>\n",
       "    </tr>\n",
       "    <tr>\n",
       "      <th>11</th>\n",
       "      <td>충청북도</td>\n",
       "      <td>255324.0</td>\n",
       "      <td>262181.0</td>\n",
       "      <td>271108.0</td>\n",
       "      <td>278068.0</td>\n",
       "      <td>288716</td>\n",
       "      <td>298753</td>\n",
       "      <td>311551</td>\n",
       "      <td>326888</td>\n",
       "      <td>343090</td>\n",
       "      <td>361423</td>\n",
       "      <td>379320</td>\n",
       "    </tr>\n",
       "    <tr>\n",
       "      <th>12</th>\n",
       "      <td>충청남도</td>\n",
       "      <td>382758.0</td>\n",
       "      <td>393997.0</td>\n",
       "      <td>408926.0</td>\n",
       "      <td>418687.0</td>\n",
       "      <td>411506</td>\n",
       "      <td>422468</td>\n",
       "      <td>438235</td>\n",
       "      <td>458092</td>\n",
       "      <td>476486</td>\n",
       "      <td>496978</td>\n",
       "      <td>516614</td>\n",
       "    </tr>\n",
       "    <tr>\n",
       "      <th>13</th>\n",
       "      <td>전라북도</td>\n",
       "      <td>361415.0</td>\n",
       "      <td>371020.0</td>\n",
       "      <td>385224.0</td>\n",
       "      <td>394072.0</td>\n",
       "      <td>405499</td>\n",
       "      <td>414786</td>\n",
       "      <td>428786</td>\n",
       "      <td>445741</td>\n",
       "      <td>459952</td>\n",
       "      <td>476417</td>\n",
       "      <td>490867</td>\n",
       "    </tr>\n",
       "    <tr>\n",
       "      <th>14</th>\n",
       "      <td>전라남도</td>\n",
       "      <td>440535.0</td>\n",
       "      <td>449340.0</td>\n",
       "      <td>460360.0</td>\n",
       "      <td>467559.0</td>\n",
       "      <td>477349</td>\n",
       "      <td>483837</td>\n",
       "      <td>494954</td>\n",
       "      <td>508892</td>\n",
       "      <td>520641</td>\n",
       "      <td>536080</td>\n",
       "      <td>551115</td>\n",
       "    </tr>\n",
       "    <tr>\n",
       "      <th>15</th>\n",
       "      <td>경상북도</td>\n",
       "      <td>524985.0</td>\n",
       "      <td>540469.0</td>\n",
       "      <td>556756.0</td>\n",
       "      <td>570722.0</td>\n",
       "      <td>591562</td>\n",
       "      <td>610777</td>\n",
       "      <td>632243</td>\n",
       "      <td>657871</td>\n",
       "      <td>683618</td>\n",
       "      <td>711642</td>\n",
       "      <td>737233</td>\n",
       "    </tr>\n",
       "    <tr>\n",
       "      <th>16</th>\n",
       "      <td>경상남도</td>\n",
       "      <td>495242.0</td>\n",
       "      <td>513313.0</td>\n",
       "      <td>534344.0</td>\n",
       "      <td>552051.0</td>\n",
       "      <td>576412</td>\n",
       "      <td>597113</td>\n",
       "      <td>624506</td>\n",
       "      <td>658095</td>\n",
       "      <td>690760</td>\n",
       "      <td>728257</td>\n",
       "      <td>764033</td>\n",
       "    </tr>\n",
       "    <tr>\n",
       "      <th>17</th>\n",
       "      <td>제주특별자치도</td>\n",
       "      <td>88749.0</td>\n",
       "      <td>91565.0</td>\n",
       "      <td>95513.0</td>\n",
       "      <td>98355.0</td>\n",
       "      <td>102205</td>\n",
       "      <td>105588</td>\n",
       "      <td>110598</td>\n",
       "      <td>117752</td>\n",
       "      <td>124738</td>\n",
       "      <td>131702</td>\n",
       "      <td>138552</td>\n",
       "    </tr>\n",
       "  </tbody>\n",
       "</table>\n",
       "</div>"
      ],
      "text/plain": [
       "        행정구역       2008       2009       2010       2011     2012     2013  \\\n",
       "0         전국  7110229.0  7401159.0  7782587.0  8020279.0  8408663  8737654   \n",
       "1     서울특별시   1342702.0  1408317.0  1504667.0  1543069.0  1619521  1683046   \n",
       "2      부산광역시   538619.0   565237.0   599836.0   623335.0   657106   686144   \n",
       "3     대구광역시    331818.0   347399.0   366227.0   380433.0   401870   419926   \n",
       "4      인천광역시   311800.0   327442.0   346561.0   360437.0   384237   404699   \n",
       "5      광주광역시   171348.0   180378.0   190347.0   197801.0   207611   215273   \n",
       "6     대전광역시    170873.0   179141.0   189437.0   196937.0   207941   217453   \n",
       "7      울산광역시   104563.0   110475.0   118181.0   124893.0   133844   142401   \n",
       "8   세종특별자치시         NaN        NaN        NaN        NaN    22906    23913   \n",
       "9        경기도  1306582.0  1371321.0  1456012.0  1509529.0  1601518  1681601   \n",
       "10       강원도   282916.0   289564.0   299088.0   304331.0   318860   329876   \n",
       "11      충청북도   255324.0   262181.0   271108.0   278068.0   288716   298753   \n",
       "12      충청남도   382758.0   393997.0   408926.0   418687.0   411506   422468   \n",
       "13      전라북도   361415.0   371020.0   385224.0   394072.0   405499   414786   \n",
       "14      전라남도   440535.0   449340.0   460360.0   467559.0   477349   483837   \n",
       "15      경상북도   524985.0   540469.0   556756.0   570722.0   591562   610777   \n",
       "16      경상남도   495242.0   513313.0   534344.0   552051.0   576412   597113   \n",
       "17  제주특별자치도     88749.0    91565.0    95513.0    98355.0   102205   105588   \n",
       "\n",
       "       2014     2015      2016      2017      2018  \n",
       "0   9147370  9656763  10134728  10666349  11193257  \n",
       "1   1759482  1847676   1923213   2006472   2084246  \n",
       "2    720268   762654    798789    837866    874182  \n",
       "3    438702   462409    485662    510382    532908  \n",
       "4    429563   461292    490540    523893    558602  \n",
       "5    224771   236357    246989    259819    272334  \n",
       "6    229976   243621    257327    271745    285272  \n",
       "7    152208   164509    175893    188429    201236  \n",
       "8     26728    31351     34910     39401     43947  \n",
       "9   1780595  1912653   2044471   2188530   2346568  \n",
       "10   344204   360910    377649    397313    416228  \n",
       "11   311551   326888    343090    361423    379320  \n",
       "12   438235   458092    476486    496978    516614  \n",
       "13   428786   445741    459952    476417    490867  \n",
       "14   494954   508892    520641    536080    551115  \n",
       "15   632243   657871    683618    711642    737233  \n",
       "16   624506   658095    690760    728257    764033  \n",
       "17   110598   117752    124738    131702    138552  "
      ]
     },
     "execution_count": 81,
     "metadata": {},
     "output_type": "execute_result"
    }
   ],
   "source": [
    "old_people"
   ]
  },
  {
   "cell_type": "code",
   "execution_count": 82,
   "metadata": {
    "scrolled": true
   },
   "outputs": [],
   "source": [
    "# old_people.loc['전국'].plot()"
   ]
  },
  {
   "cell_type": "code",
   "execution_count": 83,
   "metadata": {},
   "outputs": [
    {
     "name": "stdout",
     "output_type": "stream",
     "text": [
      "<class 'pandas.core.frame.DataFrame'>\n",
      "RangeIndex: 18 entries, 0 to 17\n",
      "Data columns (total 12 columns):\n",
      "행정구역    18 non-null object\n",
      "2008    17 non-null float64\n",
      "2009    17 non-null float64\n",
      "2010    17 non-null float64\n",
      "2011    17 non-null float64\n",
      "2012    18 non-null int64\n",
      "2013    18 non-null int64\n",
      "2014    18 non-null int64\n",
      "2015    18 non-null int64\n",
      "2016    18 non-null int64\n",
      "2017    18 non-null int64\n",
      "2018    18 non-null int64\n",
      "dtypes: float64(4), int64(7), object(1)\n",
      "memory usage: 1.8+ KB\n"
     ]
    }
   ],
   "source": [
    "old_people.info()\n",
    "type(old_people)\n",
    "old_people.drop(columns=['2008','2009','2010','2011'], inplace=True)"
   ]
  },
  {
   "cell_type": "code",
   "execution_count": 86,
   "metadata": {},
   "outputs": [
    {
     "ename": "KeyError",
     "evalue": "'행정구역'",
     "output_type": "error",
     "traceback": [
      "\u001b[1;31m---------------------------------------------------------------------------\u001b[0m",
      "\u001b[1;31mKeyError\u001b[0m                                  Traceback (most recent call last)",
      "\u001b[1;32m~\\Anaconda3\\lib\\site-packages\\pandas\\core\\indexes\\base.py\u001b[0m in \u001b[0;36mget_loc\u001b[1;34m(self, key, method, tolerance)\u001b[0m\n\u001b[0;32m   2656\u001b[0m             \u001b[1;32mtry\u001b[0m\u001b[1;33m:\u001b[0m\u001b[1;33m\u001b[0m\u001b[0m\n\u001b[1;32m-> 2657\u001b[1;33m                 \u001b[1;32mreturn\u001b[0m \u001b[0mself\u001b[0m\u001b[1;33m.\u001b[0m\u001b[0m_engine\u001b[0m\u001b[1;33m.\u001b[0m\u001b[0mget_loc\u001b[0m\u001b[1;33m(\u001b[0m\u001b[0mkey\u001b[0m\u001b[1;33m)\u001b[0m\u001b[1;33m\u001b[0m\u001b[0m\n\u001b[0m\u001b[0;32m   2658\u001b[0m             \u001b[1;32mexcept\u001b[0m \u001b[0mKeyError\u001b[0m\u001b[1;33m:\u001b[0m\u001b[1;33m\u001b[0m\u001b[0m\n",
      "\u001b[1;32mpandas\\_libs\\index.pyx\u001b[0m in \u001b[0;36mpandas._libs.index.IndexEngine.get_loc\u001b[1;34m()\u001b[0m\n",
      "\u001b[1;32mpandas\\_libs\\index.pyx\u001b[0m in \u001b[0;36mpandas._libs.index.IndexEngine.get_loc\u001b[1;34m()\u001b[0m\n",
      "\u001b[1;32mpandas\\_libs\\hashtable_class_helper.pxi\u001b[0m in \u001b[0;36mpandas._libs.hashtable.PyObjectHashTable.get_item\u001b[1;34m()\u001b[0m\n",
      "\u001b[1;32mpandas\\_libs\\hashtable_class_helper.pxi\u001b[0m in \u001b[0;36mpandas._libs.hashtable.PyObjectHashTable.get_item\u001b[1;34m()\u001b[0m\n",
      "\u001b[1;31mKeyError\u001b[0m: '행정구역'",
      "\nDuring handling of the above exception, another exception occurred:\n",
      "\u001b[1;31mKeyError\u001b[0m                                  Traceback (most recent call last)",
      "\u001b[1;32m<ipython-input-86-a3a7e5941038>\u001b[0m in \u001b[0;36m<module>\u001b[1;34m()\u001b[0m\n\u001b[1;32m----> 1\u001b[1;33m \u001b[0mold_people\u001b[0m\u001b[1;33m.\u001b[0m\u001b[0mindex\u001b[0m\u001b[1;33m=\u001b[0m\u001b[0mold_people\u001b[0m\u001b[1;33m[\u001b[0m\u001b[1;34m'행정구역'\u001b[0m\u001b[1;33m]\u001b[0m\u001b[1;33m\u001b[0m\u001b[0m\n\u001b[0m\u001b[0;32m      2\u001b[0m \u001b[0mold_people\u001b[0m\u001b[1;33m=\u001b[0m\u001b[0mold_people\u001b[0m\u001b[1;33m.\u001b[0m\u001b[0mdrop\u001b[0m\u001b[1;33m(\u001b[0m\u001b[1;33m[\u001b[0m\u001b[1;34m'행정구역'\u001b[0m\u001b[1;33m]\u001b[0m\u001b[1;33m,\u001b[0m \u001b[0maxis\u001b[0m\u001b[1;33m=\u001b[0m\u001b[1;36m1\u001b[0m\u001b[1;33m)\u001b[0m\u001b[1;33m\u001b[0m\u001b[0m\n\u001b[0;32m      3\u001b[0m \u001b[0mold\u001b[0m\u001b[1;33m=\u001b[0m\u001b[0mold_people\u001b[0m\u001b[1;33m.\u001b[0m\u001b[0mloc\u001b[0m\u001b[1;33m[\u001b[0m\u001b[1;34m'전국'\u001b[0m\u001b[1;33m]\u001b[0m\u001b[1;33m\u001b[0m\u001b[0m\n",
      "\u001b[1;32m~\\Anaconda3\\lib\\site-packages\\pandas\\core\\frame.py\u001b[0m in \u001b[0;36m__getitem__\u001b[1;34m(self, key)\u001b[0m\n\u001b[0;32m   2925\u001b[0m             \u001b[1;32mif\u001b[0m \u001b[0mself\u001b[0m\u001b[1;33m.\u001b[0m\u001b[0mcolumns\u001b[0m\u001b[1;33m.\u001b[0m\u001b[0mnlevels\u001b[0m \u001b[1;33m>\u001b[0m \u001b[1;36m1\u001b[0m\u001b[1;33m:\u001b[0m\u001b[1;33m\u001b[0m\u001b[0m\n\u001b[0;32m   2926\u001b[0m                 \u001b[1;32mreturn\u001b[0m \u001b[0mself\u001b[0m\u001b[1;33m.\u001b[0m\u001b[0m_getitem_multilevel\u001b[0m\u001b[1;33m(\u001b[0m\u001b[0mkey\u001b[0m\u001b[1;33m)\u001b[0m\u001b[1;33m\u001b[0m\u001b[0m\n\u001b[1;32m-> 2927\u001b[1;33m             \u001b[0mindexer\u001b[0m \u001b[1;33m=\u001b[0m \u001b[0mself\u001b[0m\u001b[1;33m.\u001b[0m\u001b[0mcolumns\u001b[0m\u001b[1;33m.\u001b[0m\u001b[0mget_loc\u001b[0m\u001b[1;33m(\u001b[0m\u001b[0mkey\u001b[0m\u001b[1;33m)\u001b[0m\u001b[1;33m\u001b[0m\u001b[0m\n\u001b[0m\u001b[0;32m   2928\u001b[0m             \u001b[1;32mif\u001b[0m \u001b[0mis_integer\u001b[0m\u001b[1;33m(\u001b[0m\u001b[0mindexer\u001b[0m\u001b[1;33m)\u001b[0m\u001b[1;33m:\u001b[0m\u001b[1;33m\u001b[0m\u001b[0m\n\u001b[0;32m   2929\u001b[0m                 \u001b[0mindexer\u001b[0m \u001b[1;33m=\u001b[0m \u001b[1;33m[\u001b[0m\u001b[0mindexer\u001b[0m\u001b[1;33m]\u001b[0m\u001b[1;33m\u001b[0m\u001b[0m\n",
      "\u001b[1;32m~\\Anaconda3\\lib\\site-packages\\pandas\\core\\indexes\\base.py\u001b[0m in \u001b[0;36mget_loc\u001b[1;34m(self, key, method, tolerance)\u001b[0m\n\u001b[0;32m   2657\u001b[0m                 \u001b[1;32mreturn\u001b[0m \u001b[0mself\u001b[0m\u001b[1;33m.\u001b[0m\u001b[0m_engine\u001b[0m\u001b[1;33m.\u001b[0m\u001b[0mget_loc\u001b[0m\u001b[1;33m(\u001b[0m\u001b[0mkey\u001b[0m\u001b[1;33m)\u001b[0m\u001b[1;33m\u001b[0m\u001b[0m\n\u001b[0;32m   2658\u001b[0m             \u001b[1;32mexcept\u001b[0m \u001b[0mKeyError\u001b[0m\u001b[1;33m:\u001b[0m\u001b[1;33m\u001b[0m\u001b[0m\n\u001b[1;32m-> 2659\u001b[1;33m                 \u001b[1;32mreturn\u001b[0m \u001b[0mself\u001b[0m\u001b[1;33m.\u001b[0m\u001b[0m_engine\u001b[0m\u001b[1;33m.\u001b[0m\u001b[0mget_loc\u001b[0m\u001b[1;33m(\u001b[0m\u001b[0mself\u001b[0m\u001b[1;33m.\u001b[0m\u001b[0m_maybe_cast_indexer\u001b[0m\u001b[1;33m(\u001b[0m\u001b[0mkey\u001b[0m\u001b[1;33m)\u001b[0m\u001b[1;33m)\u001b[0m\u001b[1;33m\u001b[0m\u001b[0m\n\u001b[0m\u001b[0;32m   2660\u001b[0m         \u001b[0mindexer\u001b[0m \u001b[1;33m=\u001b[0m \u001b[0mself\u001b[0m\u001b[1;33m.\u001b[0m\u001b[0mget_indexer\u001b[0m\u001b[1;33m(\u001b[0m\u001b[1;33m[\u001b[0m\u001b[0mkey\u001b[0m\u001b[1;33m]\u001b[0m\u001b[1;33m,\u001b[0m \u001b[0mmethod\u001b[0m\u001b[1;33m=\u001b[0m\u001b[0mmethod\u001b[0m\u001b[1;33m,\u001b[0m \u001b[0mtolerance\u001b[0m\u001b[1;33m=\u001b[0m\u001b[0mtolerance\u001b[0m\u001b[1;33m)\u001b[0m\u001b[1;33m\u001b[0m\u001b[0m\n\u001b[0;32m   2661\u001b[0m         \u001b[1;32mif\u001b[0m \u001b[0mindexer\u001b[0m\u001b[1;33m.\u001b[0m\u001b[0mndim\u001b[0m \u001b[1;33m>\u001b[0m \u001b[1;36m1\u001b[0m \u001b[1;32mor\u001b[0m \u001b[0mindexer\u001b[0m\u001b[1;33m.\u001b[0m\u001b[0msize\u001b[0m \u001b[1;33m>\u001b[0m \u001b[1;36m1\u001b[0m\u001b[1;33m:\u001b[0m\u001b[1;33m\u001b[0m\u001b[0m\n",
      "\u001b[1;32mpandas\\_libs\\index.pyx\u001b[0m in \u001b[0;36mpandas._libs.index.IndexEngine.get_loc\u001b[1;34m()\u001b[0m\n",
      "\u001b[1;32mpandas\\_libs\\index.pyx\u001b[0m in \u001b[0;36mpandas._libs.index.IndexEngine.get_loc\u001b[1;34m()\u001b[0m\n",
      "\u001b[1;32mpandas\\_libs\\hashtable_class_helper.pxi\u001b[0m in \u001b[0;36mpandas._libs.hashtable.PyObjectHashTable.get_item\u001b[1;34m()\u001b[0m\n",
      "\u001b[1;32mpandas\\_libs\\hashtable_class_helper.pxi\u001b[0m in \u001b[0;36mpandas._libs.hashtable.PyObjectHashTable.get_item\u001b[1;34m()\u001b[0m\n",
      "\u001b[1;31mKeyError\u001b[0m: '행정구역'"
     ]
    }
   ],
   "source": [
    "old_people.index=old_people['행정구역']\n",
    "old_people=old_people.drop(['행정구역'], axis=1)"
   ]
  },
  {
   "cell_type": "code",
   "execution_count": 88,
   "metadata": {},
   "outputs": [
    {
     "data": {
      "text/plain": [
       "2012     8408663\n",
       "2013     8737654\n",
       "2014     9147370\n",
       "2015     9656763\n",
       "2016    10134728\n",
       "2017    10666349\n",
       "2018    11193257\n",
       "Name: 전국, dtype: int64"
      ]
     },
     "execution_count": 88,
     "metadata": {},
     "output_type": "execute_result"
    }
   ],
   "source": [
    "old=old_people.loc['전국']\n",
    "old"
   ]
  },
  {
   "cell_type": "code",
   "execution_count": 110,
   "metadata": {},
   "outputs": [
    {
     "data": {
      "text/html": [
       "<div>\n",
       "<style scoped>\n",
       "    .dataframe tbody tr th:only-of-type {\n",
       "        vertical-align: middle;\n",
       "    }\n",
       "\n",
       "    .dataframe tbody tr th {\n",
       "        vertical-align: top;\n",
       "    }\n",
       "\n",
       "    .dataframe thead th {\n",
       "        text-align: right;\n",
       "    }\n",
       "</style>\n",
       "<table border=\"1\" class=\"dataframe\">\n",
       "  <thead>\n",
       "    <tr style=\"text-align: right;\">\n",
       "      <th></th>\n",
       "      <th>전국인구</th>\n",
       "      <th>노인인구</th>\n",
       "    </tr>\n",
       "  </thead>\n",
       "  <tbody>\n",
       "    <tr>\n",
       "      <th>2012</th>\n",
       "      <td>50948272</td>\n",
       "      <td>8408663</td>\n",
       "    </tr>\n",
       "    <tr>\n",
       "      <th>2013</th>\n",
       "      <td>51141463</td>\n",
       "      <td>8737654</td>\n",
       "    </tr>\n",
       "    <tr>\n",
       "      <th>2014</th>\n",
       "      <td>51327916</td>\n",
       "      <td>9147370</td>\n",
       "    </tr>\n",
       "    <tr>\n",
       "      <th>2015</th>\n",
       "      <td>51529338</td>\n",
       "      <td>9656763</td>\n",
       "    </tr>\n",
       "    <tr>\n",
       "      <th>2016</th>\n",
       "      <td>51696216</td>\n",
       "      <td>10134728</td>\n",
       "    </tr>\n",
       "    <tr>\n",
       "      <th>2017</th>\n",
       "      <td>51778544</td>\n",
       "      <td>10666349</td>\n",
       "    </tr>\n",
       "    <tr>\n",
       "      <th>2018</th>\n",
       "      <td>51826059</td>\n",
       "      <td>11193257</td>\n",
       "    </tr>\n",
       "  </tbody>\n",
       "</table>\n",
       "</div>"
      ],
      "text/plain": [
       "          전국인구      노인인구\n",
       "2012  50948272   8408663\n",
       "2013  51141463   8737654\n",
       "2014  51327916   9147370\n",
       "2015  51529338   9656763\n",
       "2016  51696216  10134728\n",
       "2017  51778544  10666349\n",
       "2018  51826059  11193257"
      ]
     },
     "execution_count": 110,
     "metadata": {},
     "output_type": "execute_result"
    }
   ],
   "source": [
    "total_old=pd.concat([total,old], axis=1)\n",
    "# old=pd.DataFrame(old)\n",
    "# total=pd.DataFrame(total)\n",
    "# old\n",
    "total_old.columns=[\"전국인구\",\"노인인구\"]\n",
    "total_old"
   ]
  },
  {
   "cell_type": "code",
   "execution_count": 130,
   "metadata": {},
   "outputs": [
    {
     "data": {
      "image/png": "[encoded data removed]",
      "text/plain": [
       "<Figure size 432x288 with 1 Axes>"
      ]
     },
     "metadata": {},
     "output_type": "display_data"
    }
   ],
   "source": [
    "import numpy as np\n",
    "from matplotlib import pyplot\n",
    "import seaborn as sns\n",
    "\n",
    "total_old_bar=total_old.plot(kind=\"bar\", stacked=True)"
   ]
  },
  {
   "cell_type": "code",
   "execution_count": 131,
   "metadata": {},
   "outputs": [],
   "source": [
    "total_old_per=(old/total)*100\n",
    "total_old_per_df=pd.DataFrame(total_old_per)\n",
    "total_old_per_df.columns=[\"노인인구 비율\"]"
   ]
  },
  {
   "cell_type": "code",
   "execution_count": 132,
   "metadata": {},
   "outputs": [
    {
     "data": {
      "text/html": [
       "<div>\n",
       "<style scoped>\n",
       "    .dataframe tbody tr th:only-of-type {\n",
       "        vertical-align: middle;\n",
       "    }\n",
       "\n",
       "    .dataframe tbody tr th {\n",
       "        vertical-align: top;\n",
       "    }\n",
       "\n",
       "    .dataframe thead th {\n",
       "        text-align: right;\n",
       "    }\n",
       "</style>\n",
       "<table border=\"1\" class=\"dataframe\">\n",
       "  <thead>\n",
       "    <tr style=\"text-align: right;\">\n",
       "      <th></th>\n",
       "      <th>노인인구 비율</th>\n",
       "    </tr>\n",
       "  </thead>\n",
       "  <tbody>\n",
       "    <tr>\n",
       "      <th>2012</th>\n",
       "      <td>16.504314</td>\n",
       "    </tr>\n",
       "    <tr>\n",
       "      <th>2013</th>\n",
       "      <td>17.085264</td>\n",
       "    </tr>\n",
       "    <tr>\n",
       "      <th>2014</th>\n",
       "      <td>17.821433</td>\n",
       "    </tr>\n",
       "    <tr>\n",
       "      <th>2015</th>\n",
       "      <td>18.740320</td>\n",
       "    </tr>\n",
       "    <tr>\n",
       "      <th>2016</th>\n",
       "      <td>19.604390</td>\n",
       "    </tr>\n",
       "    <tr>\n",
       "      <th>2017</th>\n",
       "      <td>20.599940</td>\n",
       "    </tr>\n",
       "    <tr>\n",
       "      <th>2018</th>\n",
       "      <td>21.597739</td>\n",
       "    </tr>\n",
       "  </tbody>\n",
       "</table>\n",
       "</div>"
      ],
      "text/plain": [
       "        노인인구 비율\n",
       "2012  16.504314\n",
       "2013  17.085264\n",
       "2014  17.821433\n",
       "2015  18.740320\n",
       "2016  19.604390\n",
       "2017  20.599940\n",
       "2018  21.597739"
      ]
     },
     "execution_count": 132,
     "metadata": {},
     "output_type": "execute_result"
    }
   ],
   "source": [
    "total_old_per_df"
   ]
  },
  {
   "cell_type": "code",
   "execution_count": 202,
   "metadata": {},
   "outputs": [
    {
     "data": {
      "text/plain": [
       "<Figure size 432x288 with 0 Axes>"
      ]
     },
     "metadata": {},
     "output_type": "display_data"
    },
    {
     "data": {
      "image/png": "[encoded data removed]",
      "text/plain": [
       "<Figure size 432x288 with 1 Axes>"
      ]
     },
     "metadata": {},
     "output_type": "display_data"
    }
   ],
   "source": [
    "plt.figure()\n",
    "total_old_per_df.plot(marker='o', ls=\"--\")\n",
    "plt.xlabel(\"연도\", fontsize=11)\n",
    "plt.ylabel(\"전체인구 대비 노인인구 비율\", fontsize=11)\n",
    "plt.title('전체인구 대비 연도별 노인인구 비중 증감율')\n",
    "plt.ylim(16,22)\n",
    "plt.xlim=range(2010,2020)\n",
    "\n"
   ]
  },
  {
   "cell_type": "code",
   "execution_count": null,
   "metadata": {},
   "outputs": [],
   "source": []
  }
 ],
 "metadata": {
  "kernelspec": {
   "display_name": "Python 3",
   "language": "python",
   "name": "python3"
  },
  "language_info": {
   "codemirror_mode": {
    "name": "ipython",
    "version": 3
   },
   "file_extension": ".py",
   "mimetype": "text/x-python",
   "name": "python",
   "nbconvert_exporter": "python",
   "pygments_lexer": "ipython3",
   "version": "3.6.5"
  }
 },
 "nbformat": 4,
 "nbformat_minor": 2
}
