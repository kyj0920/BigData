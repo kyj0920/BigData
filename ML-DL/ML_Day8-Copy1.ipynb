{
 "cells": [
  {
   "cell_type": "code",
   "execution_count": 16,
   "metadata": {},
   "outputs": [],
   "source": [
    "import tensorflow as tf\n",
    "import numpy as np"
   ]
  },
  {
   "cell_type": "code",
   "execution_count": 10,
   "metadata": {},
   "outputs": [],
   "source": [
    "import seaborn as sns\n",
    "import pandas as pd\n",
    "data=pd.read_csv(\"iris.csv\")"
   ]
  },
  {
   "cell_type": "code",
   "execution_count": 11,
   "metadata": {},
   "outputs": [],
   "source": [
    "#ydata에 대한 원핫 인코딩\n",
    "from keras.utils import np_utils"
   ]
  },
  {
   "cell_type": "code",
   "execution_count": 12,
   "metadata": {},
   "outputs": [],
   "source": [
    "#분류\n",
    "from keras.models import Sequential\n",
    "from keras.layers import Dense\n",
    "from keras import optimizers"
   ]
  },
  {
   "cell_type": "code",
   "execution_count": 13,
   "metadata": {
    "scrolled": true
   },
   "outputs": [
    {
     "ename": "NameError",
     "evalue": "name 'history' is not defined",
     "output_type": "error",
     "traceback": [
      "\u001b[1;31m---------------------------------------------------------------------------\u001b[0m",
      "\u001b[1;31mNameError\u001b[0m                                 Traceback (most recent call last)",
      "\u001b[1;32m<ipython-input-13-ad21c80460a4>\u001b[0m in \u001b[0;36m<module>\u001b[1;34m()\u001b[0m\n\u001b[0;32m      1\u001b[0m \u001b[1;32mimport\u001b[0m \u001b[0mmatplotlib\u001b[0m\u001b[1;33m.\u001b[0m\u001b[0mpyplot\u001b[0m \u001b[1;32mas\u001b[0m \u001b[0mplt\u001b[0m\u001b[1;33m\u001b[0m\u001b[0m\n\u001b[1;32m----> 2\u001b[1;33m \u001b[0mepochs\u001b[0m\u001b[1;33m=\u001b[0m\u001b[0mrange\u001b[0m\u001b[1;33m(\u001b[0m\u001b[1;36m1\u001b[0m\u001b[1;33m,\u001b[0m \u001b[0mlen\u001b[0m\u001b[1;33m(\u001b[0m\u001b[0mhistory\u001b[0m\u001b[1;33m.\u001b[0m\u001b[0mhistory\u001b[0m\u001b[1;33m[\u001b[0m\u001b[1;34m'acc'\u001b[0m\u001b[1;33m]\u001b[0m\u001b[1;33m)\u001b[0m\u001b[1;33m+\u001b[0m\u001b[1;36m1\u001b[0m\u001b[1;33m)\u001b[0m\u001b[1;33m\u001b[0m\u001b[0m\n\u001b[0m\u001b[0;32m      3\u001b[0m \u001b[0mepochs\u001b[0m\u001b[1;33m\u001b[0m\u001b[0m\n\u001b[0;32m      4\u001b[0m \u001b[0mplt\u001b[0m\u001b[1;33m.\u001b[0m\u001b[0mplot\u001b[0m\u001b[1;33m(\u001b[0m\u001b[0mepochs\u001b[0m\u001b[1;33m,\u001b[0m \u001b[0mhistory\u001b[0m\u001b[1;33m.\u001b[0m\u001b[0mhistory\u001b[0m\u001b[1;33m[\u001b[0m\u001b[1;34m'loss'\u001b[0m\u001b[1;33m]\u001b[0m\u001b[1;33m)\u001b[0m\u001b[1;33m\u001b[0m\u001b[0m\n\u001b[0;32m      5\u001b[0m \u001b[0mplt\u001b[0m\u001b[1;33m.\u001b[0m\u001b[0mplot\u001b[0m\u001b[1;33m(\u001b[0m\u001b[0mepochs\u001b[0m\u001b[1;33m,\u001b[0m \u001b[0mhistory\u001b[0m\u001b[1;33m.\u001b[0m\u001b[0mhistory\u001b[0m\u001b[1;33m[\u001b[0m\u001b[1;34m'val_loss'\u001b[0m\u001b[1;33m]\u001b[0m\u001b[1;33m)\u001b[0m\u001b[1;33m\u001b[0m\u001b[0m\n",
      "\u001b[1;31mNameError\u001b[0m: name 'history' is not defined"
     ]
    }
   ],
   "source": [
    "import matplotlib.pyplot as plt\n",
    "epochs=range(1, len(history.history['acc'])+1)\n",
    "epochs\n",
    "plt.plot(epochs, history.history['loss'])\n",
    "plt.plot(epochs, history.history['val_loss'])\n",
    "plt.title(\"cost of model\")\n",
    "plt.ylabel(\"cost\")\n",
    "plt.xlabel(\"epoch\")\n",
    "plt.legend(['train', 'val'], loc=\"upper left\")\n",
    "plt.show\n",
    "print(\"테스트 정확도:%.4f\" %(model.evaluate(xtest, ytest)[1]))"
   ]
  },
  {
   "cell_type": "code",
   "execution_count": 17,
   "metadata": {},
   "outputs": [],
   "source": [
    "#문서간 유사\n",
    "#문서의 단어들을 수치화 => TDM, Word2Vec\n",
    "#문서간의 단어들의 차이를 비교 => 유클리디안, 코사인유사도\n"
   ]
  },
  {
   "cell_type": "code",
   "execution_count": 18,
   "metadata": {},
   "outputs": [],
   "source": [
    "doc1=np.array([0,1,1,1])\n",
    "doc2=np.array([1,0,1,1])\n",
    "doc3=np.array([2,0,2,2])\n",
    "\n",
    "from numpy import dot\n",
    "from numpy.linalg import norm"
   ]
  },
  {
   "cell_type": "code",
   "execution_count": 19,
   "metadata": {},
   "outputs": [],
   "source": [
    "def cos_sim(A,B):\n",
    "    return dot(A,B)/(norm(A)*norm(B))"
   ]
  },
  {
   "cell_type": "code",
   "execution_count": 20,
   "metadata": {},
   "outputs": [
    {
     "name": "stdout",
     "output_type": "stream",
     "text": [
      "0.6666666666666667\n",
      "0.6666666666666667\n",
      "1.0000000000000002\n"
     ]
    }
   ],
   "source": [
    "print(cos_sim(doc1, doc2))\n",
    "print(cos_sim(doc1, doc3))\n",
    "print(cos_sim(doc2, doc3))# 1로 2번과 3번이 가장 가까움"
   ]
  },
  {
   "cell_type": "code",
   "execution_count": 21,
   "metadata": {},
   "outputs": [
    {
     "name": "stderr",
     "output_type": "stream",
     "text": [
      "C:\\Users\\B-7\\Anaconda3\\lib\\site-packages\\IPython\\core\\interactiveshell.py:2785: DtypeWarning: Columns (10) have mixed types. Specify dtype option on import or set low_memory=False.\n",
      "  interactivity=interactivity, compiler=compiler, result=result)\n"
     ]
    },
    {
     "data": {
      "text/plain": [
       "(45466, 24)"
      ]
     },
     "execution_count": 21,
     "metadata": {},
     "output_type": "execute_result"
    }
   ],
   "source": [
    "data=pd.read_csv(\"movies_metadata.csv\")\n",
    "data.head(2)\n",
    "data.shape #(45466,24)"
   ]
  },
  {
   "cell_type": "code",
   "execution_count": 22,
   "metadata": {},
   "outputs": [],
   "source": [
    "from sklearn.feature_extraction.text import TfidfVectorizer\n",
    "tfidf=TfidfVectorizer(stop_words=\"english\")"
   ]
  },
  {
   "cell_type": "code",
   "execution_count": 23,
   "metadata": {},
   "outputs": [],
   "source": [
    "data=data.head(30000)"
   ]
  },
  {
   "cell_type": "code",
   "execution_count": 24,
   "metadata": {},
   "outputs": [],
   "source": [
    "# data.info()\n",
    "data['overview']=data['overview'].fillna('') "
   ]
  },
  {
   "cell_type": "code",
   "execution_count": 25,
   "metadata": {},
   "outputs": [
    {
     "name": "stdout",
     "output_type": "stream",
     "text": [
      "<class 'pandas.core.frame.DataFrame'>\n",
      "RangeIndex: 30000 entries, 0 to 29999\n",
      "Data columns (total 24 columns):\n",
      "adult                    30000 non-null object\n",
      "belongs_to_collection    3354 non-null object\n",
      "budget                   30000 non-null object\n",
      "genres                   30000 non-null object\n",
      "homepage                 4870 non-null object\n",
      "id                       30000 non-null object\n",
      "imdb_id                  29988 non-null object\n",
      "original_language        29997 non-null object\n",
      "original_title           30000 non-null object\n",
      "overview                 30000 non-null object\n",
      "popularity               29996 non-null object\n",
      "poster_path              29837 non-null object\n",
      "production_companies     29998 non-null object\n",
      "production_countries     29998 non-null object\n",
      "release_date             29969 non-null object\n",
      "revenue                  29996 non-null float64\n",
      "runtime                  29919 non-null float64\n",
      "spoken_languages         29996 non-null object\n",
      "status                   29955 non-null object\n",
      "tagline                  15897 non-null object\n",
      "title                    29996 non-null object\n",
      "video                    29996 non-null object\n",
      "vote_average             29996 non-null float64\n",
      "vote_count               29996 non-null float64\n",
      "dtypes: float64(4), object(20)\n",
      "memory usage: 5.5+ MB\n"
     ]
    }
   ],
   "source": [
    "data.info()"
   ]
  },
  {
   "cell_type": "code",
   "execution_count": 26,
   "metadata": {},
   "outputs": [
    {
     "data": {
      "text/plain": [
       "(30000, 58562)"
      ]
     },
     "execution_count": 26,
     "metadata": {},
     "output_type": "execute_result"
    }
   ],
   "source": [
    "tfidf_matrix=tfidf.fit_transform(data['overview'])\n",
    "tfidf_matrix.shape"
   ]
  },
  {
   "cell_type": "code",
   "execution_count": 27,
   "metadata": {},
   "outputs": [],
   "source": [
    "from sklearn.metrics.pairwise import linear_kernel\n",
    "cos_sim=linear_kernel(tfidf_matrix,tfidf_matrix)"
   ]
  },
  {
   "cell_type": "code",
   "execution_count": 58,
   "metadata": {},
   "outputs": [
    {
     "data": {
      "text/plain": [
       "array([[1.        , 0.01561351, 0.        , ..., 0.        , 0.        ,\n",
       "        0.        ],\n",
       "       [0.01561351, 1.        , 0.0486754 , ..., 0.        , 0.        ,\n",
       "        0.02282596],\n",
       "       [0.        , 0.0486754 , 1.        , ..., 0.        , 0.        ,\n",
       "        0.        ],\n",
       "       ...,\n",
       "       [0.        , 0.        , 0.        , ..., 1.        , 0.        ,\n",
       "        0.01140332],\n",
       "       [0.        , 0.        , 0.        , ..., 0.        , 1.        ,\n",
       "        0.        ],\n",
       "       [0.        , 0.02282596, 0.        , ..., 0.01140332, 0.        ,\n",
       "        1.        ]])"
      ]
     },
     "execution_count": 58,
     "metadata": {},
     "output_type": "execute_result"
    }
   ],
   "source": [
    "cos_sim"
   ]
  },
  {
   "cell_type": "code",
   "execution_count": 28,
   "metadata": {},
   "outputs": [
    {
     "data": {
      "text/plain": [
       "(30000, 30000)"
      ]
     },
     "execution_count": 28,
     "metadata": {},
     "output_type": "execute_result"
    }
   ],
   "source": [
    "cos_sim.shape"
   ]
  },
  {
   "cell_type": "code",
   "execution_count": 29,
   "metadata": {},
   "outputs": [
    {
     "data": {
      "text/plain": [
       "title\n",
       "Seventeen Again                      29995\n",
       "Sweet Sixteen                        29996\n",
       "The Disappearance of Garcia Lorca    29997\n",
       "The Dramatics: A Comedy              29998\n",
       "Up the Creek                         29999\n",
       "dtype: int64"
      ]
     },
     "execution_count": 29,
     "metadata": {},
     "output_type": "execute_result"
    }
   ],
   "source": [
    "# data.index\n",
    "# data['title']\n",
    "\n",
    "res=pd.Series(data.index, index=data['title']).drop_duplicates() #중복데이터 해결\n",
    "res.head()\n",
    "res.tail()\n"
   ]
  },
  {
   "cell_type": "code",
   "execution_count": 30,
   "metadata": {},
   "outputs": [
    {
     "data": {
      "text/plain": [
       "29999"
      ]
     },
     "execution_count": 30,
     "metadata": {},
     "output_type": "execute_result"
    }
   ],
   "source": [
    "res['Up the Creek']"
   ]
  },
  {
   "cell_type": "code",
   "execution_count": 31,
   "metadata": {},
   "outputs": [
    {
     "name": "stdout",
     "output_type": "stream",
     "text": [
      "15348                    Toy Story 3\n",
      "2997                     Toy Story 2\n",
      "10301         The 40 Year Old Virgin\n",
      "24523                      Small Fry\n",
      "23843    Andy Hardy's Blonde Trouble\n",
      "29202                     Hot Splash\n",
      "8327                       The Champ\n",
      "27206     Life Begins for Andy Hardy\n",
      "1071           Rebel Without a Cause\n",
      "26304         You're Only Young Once\n",
      "Name: title, dtype: object\n"
     ]
    }
   ],
   "source": [
    "def get_recommender(title, cos_sim=cos_sim): #cos_sim=linear_kernel(tfidf_ma...)\n",
    "    idx=res[title]\n",
    "    sim_scores=list(enumerate(cos_sim[idx]))\n",
    "    sim_scores=sorted(sim_scores, key=lambda x:x[1], reverse=True)\n",
    "    sim_scores=sim_scores[1:11]\n",
    "    movie_res=[i[0] for i in sim_scores]\n",
    "    return data['title'].iloc[movie_res]\n",
    "#     #return sim_scores\n",
    "print(get_recommender('Toy Story'))"
   ]
  },
  {
   "cell_type": "markdown",
   "metadata": {},
   "source": [
    "문제 4)vote average가 9점 이상인 영화 5편 추출"
   ]
  },
  {
   "cell_type": "code",
   "execution_count": 55,
   "metadata": {
    "scrolled": false
   },
   "outputs": [
    {
     "name": "stdout",
     "output_type": "stream",
     "text": [
      "7541                                        A Better Place\n",
      "20504    Living in Emergency: Stories of Doctors Withou...\n",
      "18629                                        The Civil War\n",
      "27769                                                  Pan\n",
      "27173                                      Willow and Wind\n",
      "Name: title, dtype: object\n"
     ]
    }
   ],
   "source": [
    "def get_recommender_voteAverage(title, cos_sim=cos_sim, size=5): \n",
    "    idx=res[title]\n",
    "    \n",
    "    sim_scores=list(enumerate(cos_sim[idx]))\n",
    "    sim_scores=sorted(sim_scores, key=lambda x:x[1], reverse=True)\n",
    "    \n",
    "    cnt=0\n",
    "    iterator=1\n",
    "    saveList=[]\n",
    "    while cnt<size:\n",
    "        if data['vote_average'].iloc[sim_scores[iterator][0]]>=9.0:\n",
    "            saveList.append(iterator)\n",
    "            cnt+=1\n",
    "        iterator+=1\n",
    "    \n",
    "    movies_res=[sim_scores[i][0] for i in saveList]\n",
    "    return data['title'].iloc[movies_res]\n",
    "    #return sim_scores\n",
    "    \n",
    "print(get_recommender_voteAverage('Rambo'))"
   ]
  },
  {
   "cell_type": "markdown",
   "metadata": {},
   "source": [
    "문제 5) 추천 영화들의 평균 투표수은?"
   ]
  },
  {
   "cell_type": "code",
   "execution_count": 56,
   "metadata": {},
   "outputs": [],
   "source": [
    "def get_recommender_voteAverage(title, cos_sim=cos_sim, size=10): \n",
    "    idx=res[title]\n",
    "    \n",
    "    sim_scores=list(enumerate(cos_sim[idx]))\n",
    "    sim_scores=sorted(sim_scores, key=lambda x:x[1], reverse=True)\n",
    "    \n",
    "    cnt=0\n",
    "    iterator=1\n",
    "    saveList=[]\n",
    "    while cnt<size:\n",
    "        if data['vote_average'].iloc[sim_scores[iterator][0]]>=9.0:\n",
    "            saveList.append(iterator)\n",
    "            cnt+=1\n",
    "        iterator+=1\n",
    "    \n",
    "    movies_res=[sim_scores[i][0] for i in saveList]\n",
    "    return movies_res\n",
    "    \n",
    "def get_recommender_countAverage(title, size=10): \n",
    "    indexList=get_recommender_voteAverage(title)\n",
    "    sum=0\n",
    "    for i in indexList:\n",
    "        sum+=data['vote_count'].iloc[i]\n",
    "    return sum/size"
   ]
  },
  {
   "cell_type": "code",
   "execution_count": 57,
   "metadata": {
    "scrolled": true
   },
   "outputs": [
    {
     "name": "stdout",
     "output_type": "stream",
     "text": [
      "평균 9점 이상 영화 중 A Better Place와 overview가 유사한 영화 10편의 평균 투표갯수: 2.3\n"
     ]
    }
   ],
   "source": [
    "print(\"평균 9점 이상 영화 중 A Better Place와 overview가 유사한 영화 10편의 평균 투표갯수:\", get_recommender_countAverage('A Better Place'))"
   ]
  },
  {
   "cell_type": "code",
   "execution_count": null,
   "metadata": {},
   "outputs": [],
   "source": []
  },
  {
   "cell_type": "code",
   "execution_count": null,
   "metadata": {},
   "outputs": [],
   "source": []
  },
  {
   "cell_type": "code",
   "execution_count": null,
   "metadata": {},
   "outputs": [],
   "source": []
  },
  {
   "cell_type": "code",
   "execution_count": null,
   "metadata": {},
   "outputs": [],
   "source": []
  }
 ],
 "metadata": {
  "kernelspec": {
   "display_name": "Python 3",
   "language": "python",
   "name": "python3"
  },
  "language_info": {
   "codemirror_mode": {
    "name": "ipython",
    "version": 3
   },
   "file_extension": ".py",
   "mimetype": "text/x-python",
   "name": "python",
   "nbconvert_exporter": "python",
   "pygments_lexer": "ipython3",
   "version": "3.6.5"
  }
 },
 "nbformat": 4,
 "nbformat_minor": 2
}
