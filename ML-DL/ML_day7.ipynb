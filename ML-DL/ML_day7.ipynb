{
 "cells": [
  {
   "cell_type": "code",
   "execution_count": 42,
   "metadata": {},
   "outputs": [],
   "source": [
    "import numpy as np\n",
    "import tensorflow as tf\n",
    "\n",
    "#입력변수:2개, 출력:3가지 종류\n",
    "\n",
    "\n",
    "# '기타(o)' 분류기: hf=wo1x1+wo2x2+b\n",
    "# '포유류(m)' 분류기: hf=wm1x1+wm2x2+b\n",
    "# '조류(b)' 분류기: hf=wb1x1+wb2x2+b\n",
    "# w변수가 6개 필요함 => 입력변수:2 * 출력변수:3 =6\n",
    "\n",
    "#[털(x1), 날개(x2)]\n",
    "x_data = np.array(\n",
    "    [[0, 0], \n",
    "     [1, 0], \n",
    "     [1, 1], \n",
    "     [0, 0], \n",
    "     [0, 0], \n",
    "     [0, 1]])\n",
    "\n",
    "# [기타, 포유류, 조류]\n",
    "y_data = np.array([\n",
    "    [1, 0, 0],  # 기타\n",
    "    [0, 1, 0],  # 포유류\n",
    "    [0, 0, 1],  # 조류\n",
    "    [1, 0, 0],\n",
    "    [1, 0, 0],\n",
    "    [0, 0, 1]\n",
    "])\n",
    "                #[입력특성개수, 출력레이블개수] => [2,3]\n",
    "W=tf.Variable(tf.random_normal([2,3]))\n",
    "b=tf.Variable(tf.zeros([3])) #분류기 개수만큼 존재\n",
    "x=tf.placeholder(tf.float32)\n",
    "y=tf.placeholder(tf.float32)\n",
    "\n",
    "hf=tf.add(tf.matmul(x,W),b) #x:(6,2), w:(2,3), xw:(6,3)\n",
    "hf=tf.nn.relu(hf)\n",
    "model=tf.nn.softmax(hf) #[3,2,1.5] => [0.5, 0.3, 0.2]\n",
    "cost=tf.reduce_mean(-tf.reduce_sum(y*tf.log(model), axis=1))\n",
    "\n",
    "optimizer=tf.train.GradientDescentOptimizer(0.01)\n",
    "train=optimizer.minimize(cost)\n",
    "\n",
    "\n",
    "#sigmoid(입력값을 0~1로 변환), relu함수(음수->0, 양수->양수값 그대로 출력)\n",
    "#ex) relu(-3)=>0, relu(5)=>5\n",
    "#ex) sigmoid(-3)=> 0.1, sigmoid(5) => 0.8\n",
    "\n",
    "# 0.1*0.1*0.1*...*0.00001 => 0에 가까워\n",
    "# h(x)->relu->h(x)->sig->0~1->...->0이 되기도 함-> 신호손실\n",
    "# h(x)->relu->h(x)->relu->h(x)->...->sigmoid()->0~1사이로 출력"
   ]
  },
  {
   "cell_type": "code",
   "execution_count": 43,
   "metadata": {},
   "outputs": [],
   "source": [
    "init=tf.global_variables_initializer()\n",
    "sess=tf.Session()\n",
    "sess.run(init)"
   ]
  },
  {
   "cell_type": "code",
   "execution_count": 44,
   "metadata": {},
   "outputs": [
    {
     "name": "stdout",
     "output_type": "stream",
     "text": [
      "10 1.045753\n",
      "20 1.0356992\n",
      "30 1.026197\n",
      "40 1.0171872\n",
      "50 1.0086634\n",
      "60 1.0005485\n",
      "70 0.9928198\n",
      "80 0.9855463\n",
      "90 0.97858644\n",
      "100 0.97194886\n"
     ]
    }
   ],
   "source": [
    "for step in range(100):\n",
    "    sess.run(train, feed_dict={x:x_data, y:y_data})\n",
    "    if(step+1)%10==0:\n",
    "        print(step+1, sess.run(cost, feed_dict={x:x_data, y:y_data}))"
   ]
  },
  {
   "cell_type": "code",
   "execution_count": 45,
   "metadata": {},
   "outputs": [
    {
     "name": "stdout",
     "output_type": "stream",
     "text": [
      "예측값: [0 2 2 0 0 2]\n",
      "실제값: [0 1 2 0 0 2]\n"
     ]
    }
   ],
   "source": [
    "#결과 확인\n",
    "#[[0 1 0] [0 0 1]] => argmax => [1 2]\n",
    "prediction=tf.argmax(model,1)\n",
    "target=tf.argmax(y,1)\n",
    "print(\"예측값:\", sess.run(prediction, feed_dict={x:x_data}))\n",
    "print(\"실제값:\", sess.run(target, feed_dict={y:y_data}))"
   ]
  },
  {
   "cell_type": "code",
   "execution_count": 46,
   "metadata": {},
   "outputs": [
    {
     "name": "stdout",
     "output_type": "stream",
     "text": [
      "정확도:83.33\n"
     ]
    }
   ],
   "source": [
    "is_correct=tf.equal(prediction, target)\n",
    "accuracy=tf.reduce_mean(tf.cast(is_correct, tf.float32))\n",
    "print(\"정확도:%.2f\" % sess.run(accuracy*100, feed_dict={x:x_data, y:y_data}))"
   ]
  },
  {
   "cell_type": "code",
   "execution_count": 47,
   "metadata": {},
   "outputs": [],
   "source": [
    "from tensorflow.examples.tutorials.mnist import input_data\n",
    "import random\n",
    "import matplotlib.pyplot as plt"
   ]
  },
  {
   "cell_type": "code",
   "execution_count": 65,
   "metadata": {},
   "outputs": [
    {
     "name": "stdout",
     "output_type": "stream",
     "text": [
      "Extracting MNIST_data/train-images-idx3-ubyte.gz\n",
      "Extracting MNIST_data/train-labels-idx1-ubyte.gz\n",
      "Extracting MNIST_data/t10k-images-idx3-ubyte.gz\n",
      "Extracting MNIST_data/t10k-labels-idx1-ubyte.gz\n"
     ]
    }
   ],
   "source": [
    "mnist=input_data.read_data_sets(\"MNIST_data/\", one_hot=True)\n",
    "nb_classes=10 #0~9\n",
    "x=tf.placeholder(tf.float32, shape=[None, 784]) #784 픽셀 = 28*28이미지\n",
    "y=tf.placeholder(tf.float32, shape=[None, nb_classes])\n",
    "w=tf.Variable(tf.random_normal([784,nb_classes]))\n",
    "b=tf.Variable(tf.random_normal([nb_classes]))\n",
    "hf= tf.nn.softmax(tf.matmul(x,w)+b ) #[0.01, 0.05, 0.1, 0.4 ... 0.01]\n",
    "cost= tf.reduce_mean(-tf.reduce_sum(y*tf.log(hf),1))\n",
    "train= tf.train.GradientDescentOptimizer(0.1).minimize(cost)"
   ]
  },
  {
   "cell_type": "code",
   "execution_count": 66,
   "metadata": {},
   "outputs": [],
   "source": [
    "iscorrect=tf.equal(tf.argmax(hf,1), tf.argmax(y,1))\n",
    "#실제값 3, 예측 2=> True\n",
    "accuracy=tf.reduce_mean(tf.cast(iscorrect, tf.float32))"
   ]
  },
  {
   "cell_type": "code",
   "execution_count": 68,
   "metadata": {},
   "outputs": [
    {
     "name": "stdout",
     "output_type": "stream",
     "text": [
      "에폭:    1 cost= 2.861383367\n",
      "에폭:    2 cost= 1.152871760\n",
      "에폭:    3 cost= 0.905346750\n",
      "에폭:    4 cost= 0.783815769\n",
      "에폭:    5 cost= 0.709042422\n",
      "에폭:    6 cost= 0.656738854\n",
      "에폭:    7 cost= 0.617194898\n",
      "에폭:    8 cost= 0.585002257\n",
      "에폭:    9 cost= 0.560035474\n",
      "에폭:   10 cost= 0.538697980\n",
      "에폭:   11 cost= 0.520537528\n",
      "에폭:   12 cost= 0.504862914\n",
      "에폭:   13 cost= 0.490215856\n",
      "에폭:   14 cost= 0.478052206\n",
      "에폭:   15 cost= 0.467702240\n",
      "학습종료\n"
     ]
    }
   ],
   "source": [
    "with tf.Session() as sess:\n",
    "    sess.run(tf.global_variables_initializer())\n",
    "    for epoch in range(15): #15번 반복\n",
    "        costavr=0\n",
    "        totalbatch=int(mnist.train.num_examples/100) #6만/100 => 600\n",
    "        for i in range(totalbatch):\n",
    "            batchx, batchy = mnist.train.next_batch(100)#한번에 100개의 이미지를 읽어들임\n",
    "            cv, _ = sess.run([cost, train], feed_dict={x:batchx, y:batchy})\n",
    "            costavr += cv/totalbatch #cost 평균\n",
    "        print(\"에폭:\", \"%4d\"%(epoch+1), \"cost=\", \"{:.9f}\".format(costavr))\n",
    "    print(\"학습종료\")"
   ]
  },
  {
   "cell_type": "code",
   "execution_count": null,
   "metadata": {},
   "outputs": [],
   "source": []
  }
 ],
 "metadata": {
  "kernelspec": {
   "display_name": "Python 3",
   "language": "python",
   "name": "python3"
  },
  "language_info": {
   "codemirror_mode": {
    "name": "ipython",
    "version": 3
   },
   "file_extension": ".py",
   "mimetype": "text/x-python",
   "name": "python",
   "nbconvert_exporter": "python",
   "pygments_lexer": "ipython3",
   "version": "3.6.5"
  }
 },
 "nbformat": 4,
 "nbformat_minor": 2
}
