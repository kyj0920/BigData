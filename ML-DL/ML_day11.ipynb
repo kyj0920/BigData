{
 "cells": [
  {
   "cell_type": "code",
   "execution_count": 7,
   "metadata": {},
   "outputs": [
    {
     "name": "stdout",
     "output_type": "stream",
     "text": [
      "_________________________________________________________________\n",
      "Layer (type)                 Output Shape              Param #   \n",
      "=================================================================\n",
      "dense_4 (Dense)              (None, 8)                 40        \n",
      "_________________________________________________________________\n",
      "dense_5 (Dense)              (None, 1)                 9         \n",
      "=================================================================\n",
      "Total params: 49\n",
      "Trainable params: 49\n",
      "Non-trainable params: 0\n",
      "_________________________________________________________________\n"
     ]
    },
    {
     "name": "stderr",
     "output_type": "stream",
     "text": [
      "C:\\Users\\B-7\\Anaconda3\\lib\\site-packages\\ipykernel_launcher.py:8: UserWarning: Update your `Dense` call to the Keras 2 API: `Dense(8, input_dim=4, activation=\"relu\", kernel_initializer=\"uniform\")`\n",
      "  \n"
     ]
    }
   ],
   "source": [
    "from keras.models import Sequential\n",
    "from keras.layers import Dense\n",
    "# model=Sequential()\n",
    "# model.add(Dense(1,input_dim=3, init='normal', activation='relu'))\n",
    "# #Dense(출력개수(y), 입력개수(차원, x변수 개수))\n",
    "\n",
    "model=Sequential()\n",
    "model.add(Dense(8, input_dim=4, init='uniform', activation='relu'))\n",
    "model.add(Dense(1, activation='sigmoid'))\n",
    "model.summary()"
   ]
  },
  {
   "cell_type": "code",
   "execution_count": 9,
   "metadata": {},
   "outputs": [
    {
     "data": {
      "text/plain": [
       "Ellipsis"
      ]
     },
     "execution_count": 9,
     "metadata": {},
     "output_type": "execute_result"
    }
   ],
   "source": [
    "#compile:모델링한 모델을 컴파일, 오차함수, 최적화, 모델 수행 결과 매트릭함수\n",
    "model=Sequential()\n",
    "model.add\n",
    "\n",
    "#Embedding(): 밀집 벡터 생성([1.3, 2.7]) <-> 원핫벡터(0010000.....0000)\n",
    "\n",
    "#단어의 종류가 10개라고 가정, Embedding 결과는 다음과 같음\n",
    "#0(hi) : [0.5, 2.7]\n",
    "#1(to) : [1.3, 2.5]\n",
    "...\n",
    "#9(lovd) : [2.7, 4.5]\n",
    "\n",
    "#원핫벡터\n",
    "#[[1]]"
   ]
  },
  {
   "cell_type": "code",
   "execution_count": 11,
   "metadata": {},
   "outputs": [],
   "source": [
    "#rnn: 시퀀스 모델\n"
   ]
  },
  {
   "cell_type": "code",
   "execution_count": 15,
   "metadata": {},
   "outputs": [
    {
     "name": "stdout",
     "output_type": "stream",
     "text": [
      "{'프로젝트': 1, '합시다': 2, '오늘': 3, '준비': 4, '잘': 5, '내일은': 6, '발표가': 7, '있죠': 8, '모두': 9, '화이팅': 10, '알았죠': 11}\n",
      "==================================================\n"
     ]
    },
    {
     "data": {
      "text/plain": [
       "[3, 1, 4, 5, 2, 6, 1, 7, 8, 9, 10, 2, 11]"
      ]
     },
     "execution_count": 15,
     "metadata": {},
     "output_type": "execute_result"
    }
   ],
   "source": [
    "#rnn을 이용해서 주어진 문장을 학습 => 모델 => 다음에 오게될 단어를 예측 모델\n",
    "text='오늘 프로젝트 준비 잘 합시다 내일은 프로젝트 발표가 있죠. 모두 화이팅 합시다 알았죠?'\n",
    "from keras_preprocessing.text import Tokenizer\n",
    "t=Tokenizer()\n",
    "t.fit_on_texts([text])\n",
    "t.texts_to_sequences([text])\n",
    "print(t.word_index)\n",
    "print('='*50)\n",
    "t.texts_to_sequences([text])[0]\n"
   ]
  },
  {
   "cell_type": "code",
   "execution_count": 17,
   "metadata": {},
   "outputs": [
    {
     "ename": "NameError",
     "evalue": "name 'encoded' is not defined",
     "output_type": "error",
     "traceback": [
      "\u001b[1;31m---------------------------------------------------------------------------\u001b[0m",
      "\u001b[1;31mNameError\u001b[0m                                 Traceback (most recent call last)",
      "\u001b[1;32m<ipython-input-17-1a5b58f14a6f>\u001b[0m in \u001b[0;36m<module>\u001b[1;34m()\u001b[0m\n\u001b[0;32m      3\u001b[0m \u001b[1;33m\u001b[0m\u001b[0m\n\u001b[0;32m      4\u001b[0m \u001b[0msequences\u001b[0m\u001b[1;33m=\u001b[0m\u001b[0mlist\u001b[0m\u001b[1;33m(\u001b[0m\u001b[1;33m)\u001b[0m\u001b[1;33m\u001b[0m\u001b[0m\n\u001b[1;32m----> 5\u001b[1;33m \u001b[1;32mfor\u001b[0m \u001b[0mc\u001b[0m \u001b[1;32min\u001b[0m \u001b[0mrange\u001b[0m\u001b[1;33m(\u001b[0m\u001b[1;36m1\u001b[0m\u001b[1;33m,\u001b[0m \u001b[0mlen\u001b[0m\u001b[1;33m(\u001b[0m\u001b[0mencoded\u001b[0m\u001b[1;33m)\u001b[0m\u001b[1;33m)\u001b[0m\u001b[1;33m:\u001b[0m\u001b[1;33m\u001b[0m\u001b[0m\n\u001b[0m\u001b[0;32m      6\u001b[0m     \u001b[0msequence\u001b[0m\u001b[1;33m=\u001b[0m\u001b[0mencoded\u001b[0m\u001b[1;33m[\u001b[0m\u001b[0mc\u001b[0m\u001b[1;33m-\u001b[0m\u001b[1;36m1\u001b[0m\u001b[1;33m:\u001b[0m\u001b[0mc\u001b[0m\u001b[1;33m+\u001b[0m\u001b[1;36m1\u001b[0m\u001b[1;33m]\u001b[0m \u001b[1;31m#단어 두개를 묶어서 저장\u001b[0m\u001b[1;33m\u001b[0m\u001b[0m\n\u001b[0;32m      7\u001b[0m     \u001b[0mprint\u001b[0m\u001b[1;33m(\u001b[0m\u001b[0msequence\u001b[0m\u001b[1;33m)\u001b[0m\u001b[1;33m\u001b[0m\u001b[0m\n",
      "\u001b[1;31mNameError\u001b[0m: name 'encoded' is not defined"
     ]
    }
   ],
   "source": [
    "t.word_index #단어의 개수 11개, 케라스 원핫인코딩시 0번부터 시작 -> 배열의 크기 +1\n",
    "vocab_size=len(t.word_index)+1\n",
    "\n",
    "sequences=list()\n",
    "for c in range(1, len(encoded)):\n",
    "    sequence=encoded[c-1:c+1] #단어 두개를 묶어서 저장\n",
    "    print(sequence)\n",
    "    sequences.append(sequence)\n",
    "print('단어 묶음의 수: %d' % len(sequences))\n",
    "print(sequences)\n",
    "x,y=zip(*sequences)\n",
    "x=np.array(x)\n",
    "y\n",
    "\n",
    "from keras.utils"
   ]
  },
  {
   "cell_type": "code",
   "execution_count": null,
   "metadata": {},
   "outputs": [],
   "source": []
  }
 ],
 "metadata": {
  "kernelspec": {
   "display_name": "Python 3",
   "language": "python",
   "name": "python3"
  },
  "language_info": {
   "codemirror_mode": {
    "name": "ipython",
    "version": 3
   },
   "file_extension": ".py",
   "mimetype": "text/x-python",
   "name": "python",
   "nbconvert_exporter": "python",
   "pygments_lexer": "ipython3",
   "version": "3.6.5"
  }
 },
 "nbformat": 4,
 "nbformat_minor": 2
}
