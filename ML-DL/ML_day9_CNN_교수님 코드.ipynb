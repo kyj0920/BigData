{
 "cells": [
  {
   "cell_type": "code",
   "execution_count": 1,
   "metadata": {},
   "outputs": [
    {
     "name": "stderr",
     "output_type": "stream",
     "text": [
      "C:\\Users\\B-7\\Anaconda3\\lib\\site-packages\\h5py\\__init__.py:36: FutureWarning: Conversion of the second argument of issubdtype from `float` to `np.floating` is deprecated. In future, it will be treated as `np.float64 == np.dtype(float).type`.\n",
      "  from ._conv import register_converters as _register_converters\n"
     ]
    },
    {
     "name": "stdout",
     "output_type": "stream",
     "text": [
      "WARNING:tensorflow:From <ipython-input-1-b623d7cdb107>:13: read_data_sets (from tensorflow.contrib.learn.python.learn.datasets.mnist) is deprecated and will be removed in a future version.\n",
      "Instructions for updating:\n",
      "Please use alternatives such as official/mnist/dataset.py from tensorflow/models.\n",
      "WARNING:tensorflow:From C:\\Users\\B-7\\Anaconda3\\lib\\site-packages\\tensorflow\\contrib\\learn\\python\\learn\\datasets\\mnist.py:260: maybe_download (from tensorflow.contrib.learn.python.learn.datasets.base) is deprecated and will be removed in a future version.\n",
      "Instructions for updating:\n",
      "Please write your own downloading logic.\n",
      "WARNING:tensorflow:From C:\\Users\\B-7\\Anaconda3\\lib\\site-packages\\tensorflow\\contrib\\learn\\python\\learn\\datasets\\mnist.py:262: extract_images (from tensorflow.contrib.learn.python.learn.datasets.mnist) is deprecated and will be removed in a future version.\n",
      "Instructions for updating:\n",
      "Please use tf.data to implement this functionality.\n",
      "Extracting /tmp/data/train-images-idx3-ubyte.gz\n",
      "WARNING:tensorflow:From C:\\Users\\B-7\\Anaconda3\\lib\\site-packages\\tensorflow\\contrib\\learn\\python\\learn\\datasets\\mnist.py:267: extract_labels (from tensorflow.contrib.learn.python.learn.datasets.mnist) is deprecated and will be removed in a future version.\n",
      "Instructions for updating:\n",
      "Please use tf.data to implement this functionality.\n",
      "Extracting /tmp/data/train-labels-idx1-ubyte.gz\n",
      "WARNING:tensorflow:From C:\\Users\\B-7\\Anaconda3\\lib\\site-packages\\tensorflow\\contrib\\learn\\python\\learn\\datasets\\mnist.py:110: dense_to_one_hot (from tensorflow.contrib.learn.python.learn.datasets.mnist) is deprecated and will be removed in a future version.\n",
      "Instructions for updating:\n",
      "Please use tf.one_hot on tensors.\n",
      "Extracting /tmp/data/t10k-images-idx3-ubyte.gz\n",
      "Extracting /tmp/data/t10k-labels-idx1-ubyte.gz\n",
      "WARNING:tensorflow:From C:\\Users\\B-7\\Anaconda3\\lib\\site-packages\\tensorflow\\contrib\\learn\\python\\learn\\datasets\\mnist.py:290: DataSet.__init__ (from tensorflow.contrib.learn.python.learn.datasets.mnist) is deprecated and will be removed in a future version.\n",
      "Instructions for updating:\n",
      "Please use alternatives such as official/mnist/dataset.py from tensorflow/models.\n",
      "WARNING:tensorflow:From C:\\Users\\B-7\\Anaconda3\\lib\\site-packages\\tensorflow\\python\\framework\\op_def_library.py:263: colocate_with (from tensorflow.python.framework.ops) is deprecated and will be removed in a future version.\n",
      "Instructions for updating:\n",
      "Colocations handled automatically by placer.\n",
      "WARNING:tensorflow:From <ipython-input-1-b623d7cdb107>:58: calling dropout (from tensorflow.python.ops.nn_ops) with keep_prob is deprecated and will be removed in a future version.\n",
      "Instructions for updating:\n",
      "Please use `rate` instead of `keep_prob`. Rate should be set to `rate = 1 - keep_prob`.\n",
      "WARNING:tensorflow:From <ipython-input-1-b623d7cdb107>:67: softmax_cross_entropy_with_logits (from tensorflow.python.ops.nn_ops) is deprecated and will be removed in a future version.\n",
      "Instructions for updating:\n",
      "\n",
      "Future major versions of TensorFlow will allow gradients to flow\n",
      "into the labels input on backprop by default.\n",
      "\n",
      "See `tf.nn.softmax_cross_entropy_with_logits_v2`.\n",
      "\n",
      "Step: 0, Loss: 9.536269, Accuracy: 0.159800\n",
      "Step: 100, Loss: 1.384666, Accuracy: 0.909900\n",
      "Step: 200, Loss: 0.990800, Accuracy: 0.927800\n",
      "Step: 300, Loss: 0.777353, Accuracy: 0.947000\n",
      "Step: 400, Loss: 0.700470, Accuracy: 0.951300\n",
      "Step: 500, Loss: 0.658700, Accuracy: 0.949300\n"
     ]
    }
   ],
   "source": [
    "\n",
    "import tensorflow as tf\n",
    "import numpy as np\n",
    "import matplotlib.pyplot as plt\n",
    "from tensorflow.examples.tutorials.mnist import input_data\n",
    "\n",
    "tf.reset_default_graph() \n",
    "\n",
    "np.random.seed(2019)\n",
    "tf.set_random_seed(2019)\n",
    "\n",
    "# load data\n",
    "mnist = input_data.read_data_sets(\"/tmp/data/\", one_hot=True)\n",
    "\n",
    "# define first layer\n",
    "num_filters1 = 32\n",
    "\n",
    "x = tf.placeholder(tf.float32, [None, 784])\n",
    "x_image = tf.reshape(x, [-1,28,28,1])\n",
    "\n",
    "W_conv1 = tf.Variable(tf.truncated_normal([5,5,1,num_filters1],\n",
    "                                          stddev=0.1))\n",
    "h_conv1 = tf.nn.conv2d(x_image, W_conv1,\n",
    "                       strides=[1,1,1,1], padding='SAME')\n",
    "\n",
    "b_conv1 = tf.Variable(tf.constant(0.1, shape=[num_filters1]))\n",
    "h_conv1_cutoff = tf.nn.relu(h_conv1 + b_conv1)\n",
    "\n",
    "h_pool1 = tf.nn.max_pool(h_conv1_cutoff, ksize=[1,2,2,1],\n",
    "                         strides=[1,2,2,1], padding='SAME')\n",
    "\n",
    "# define second layer\n",
    "num_filters2 = 64\n",
    "\n",
    "W_conv2 = tf.Variable(\n",
    "            tf.truncated_normal([5,5,num_filters1,num_filters2],\n",
    "                                stddev=0.1))\n",
    "h_conv2 = tf.nn.conv2d(h_pool1, W_conv2,\n",
    "                       strides=[1,1,1,1], padding='SAME')\n",
    "\n",
    "b_conv2 = tf.Variable(tf.constant(0.1, shape=[num_filters2]))\n",
    "h_conv2_cutoff = tf.nn.relu(h_conv2 + b_conv2)\n",
    "\n",
    "h_pool2 = tf.nn.max_pool(h_conv2_cutoff, ksize=[1,2,2,1],\n",
    "                         strides=[1,2,2,1], padding='SAME')\n",
    "\n",
    "# define fully connected layer\n",
    "h_pool2_flat = tf.reshape(h_pool2, [-1, 7*7*num_filters2])\n",
    "\n",
    "num_units1 = 7*7*num_filters2\n",
    "num_units2 = 1024\n",
    "\n",
    "w2 = tf.Variable(tf.truncated_normal([num_units1, num_units2]))\n",
    "b2 = tf.Variable(tf.constant(0.1, shape=[num_units2]))\n",
    "hidden2 = tf.nn.relu(tf.matmul(h_pool2_flat, w2) + b2)\n",
    "\n",
    "keep_prob = tf.placeholder(tf.float32)\n",
    "hidden2_drop = tf.nn.dropout(hidden2, keep_prob)\n",
    "\n",
    "w0 = tf.Variable(tf.zeros([num_units2, 10]))\n",
    "b0 = tf.Variable(tf.zeros([10]))\n",
    "k = tf.matmul(hidden2_drop, w0) + b0\n",
    "p = tf.nn.softmax(k)\n",
    "\n",
    "#define loss (cost) function\n",
    "t = tf.placeholder(tf.float32, [None, 10])\n",
    "loss = tf.reduce_mean(tf.nn.softmax_cross_entropy_with_logits(logits=k,labels=t)) \n",
    "train_step = tf.train.AdamOptimizer(0.0001).minimize(loss)\n",
    "correct_prediction = tf.equal(tf.argmax(p, 1), tf.argmax(t, 1))\n",
    "accuracy = tf.reduce_mean(tf.cast(correct_prediction, tf.float32))\n",
    "\n",
    "# prepare session\n",
    "sess = tf.InteractiveSession()\n",
    "sess.run(tf.global_variables_initializer())\n",
    "saver = tf.train.Saver()\n",
    "\n",
    "# start training\n",
    "i = 0\n",
    "for i in range(501):\n",
    "    batch_xs, batch_ts = mnist.train.next_batch(50)\n",
    "    sess.run(train_step,\n",
    "             feed_dict={x:batch_xs, t:batch_ts, keep_prob:0.5})\n",
    "    if i % 100 == 0:\n",
    "        loss_vals, acc_vals = [], []\n",
    "        for c in range(4):\n",
    "            start = int(len(mnist.test.labels) / 4 * c)\n",
    "            end = int(len(mnist.test.labels) / 4 * (c+1))\n",
    "            loss_val, acc_val = sess.run([loss, accuracy],\n",
    "                feed_dict={x:mnist.test.images[start:end],\n",
    "                           t:mnist.test.labels[start:end],\n",
    "                           keep_prob:1.0})\n",
    "            loss_vals.append(loss_val)\n",
    "            acc_vals.append(acc_val)\n",
    "        loss_val = np.sum(loss_vals)\n",
    "        acc_val = np.mean(acc_vals)\n",
    "        print ('Step: %d, Loss: %f, Accuracy: %f'\n",
    "               % (i, loss_val, acc_val))"
   ]
  },
  {
   "cell_type": "code",
   "execution_count": 7,
   "metadata": {},
   "outputs": [
    {
     "data": {
      "text/plain": [
       "array([[1, 2, 3],\n",
       "       [6, 7, 8],\n",
       "       [0, 0, 7]])"
      ]
     },
     "execution_count": 7,
     "metadata": {},
     "output_type": "execute_result"
    }
   ],
   "source": [
    "from keras.preprocessing.text import Tokenizer\n",
    "from keras.preprocessing.sequence import pad_sequences\n",
    "\n",
    "t=Tokenizer() #토큰화, 단어에 대한 정수 인코딩\n",
    "#      1    2    3  4    5      6     7\n",
    "text=\"The earth is an awesome place live\"\n",
    "t.fit_on_texts([text])\n",
    "test=\"an great place live The earth is\"\n",
    "t.texts_to_sequences([test])\n",
    "\n",
    "#pad_sequences : 단어의 수를 동일한 길이로...\n",
    "pad_sequences([[1,2,3], [3,4,5,6,7,8], [7]], maxlen=3)\n"
   ]
  },
  {
   "cell_type": "code",
   "execution_count": 10,
   "metadata": {},
   "outputs": [
    {
     "name": "stdout",
     "output_type": "stream",
     "text": [
      "<keras.layers.embeddings.Embedding object at 0x0000020980A5AF60>\n"
     ]
    }
   ],
   "source": [
    "# 워드임베딩: 텍스트 -> 숫자(Dense Vector)\n",
    "# 원핫벡터 -> [0 0 0 0 1...0] -> 고차원 -> 임베딩벡터(밀집 벡터) 0 또는 1\n",
    "#              나 너 학교 구름    서울 (단어가 1000개 -> 1000차원)\n",
    "# ex) 학교 -> [0  0   1    0   ... 0 ]\n",
    "\n",
    "# 밀집벡터에서 '학교' -> [0.1 -1.5 0.8 0.9] 모든 수가 다 가능\n",
    "# Embedding() : 밀집벡터 생성\n",
    "\n",
    "text = [['Hope', 'to', 'see', 'you', 'soon'], #토큰화된 상태\n",
    "        ['Nice', 'to', 'see', 'you', 'again']]\n",
    "text = [[0,1,2,3,4], [5,1,2,3,6]] #정수 인코딩\n",
    "# => 원핫벡터로 변환되면...\n",
    "# => [[[10000000], [01000000], .... ], [[0000010]]]\n",
    "\n",
    "# 정수인코딩 => 밀집 벡터 생성\n",
    "from keras.layers import Embedding\n",
    "print(Embedding(7,2,input_length=5))\n",
    "#밀집벡터로 변환된다면...\n",
    "# => [[1.2, 3.1], [0.1, 3.7], ... ]\n",
    "\n",
    "\n"
   ]
  },
  {
   "cell_type": "code",
   "execution_count": 13,
   "metadata": {},
   "outputs": [
    {
     "name": "stderr",
     "output_type": "stream",
     "text": [
      "C:\\Users\\B-7\\Anaconda3\\lib\\site-packages\\ipykernel_launcher.py:5: UserWarning: Update your `Dense` call to the Keras 2 API: `Dense(1, input_dim=3, activation=\"relu\", kernel_initializer=\"uniform\")`\n",
      "  \"\"\"\n"
     ]
    }
   ],
   "source": [
    "# Sequential(): 모델 생성(입력층, 은닉층, 출력층)함수\n",
    "from keras.layers import Dense\n",
    "from keras.models import Sequential\n",
    "model=Sequential()\n",
    "model.add(Dense(1,input_dim=3, init='uniform', activation='relu'))\n",
    "#Dense(출력 뉴런의수, 입력 뉴런의 수, init: 초기화(uniform:균등, normal:가우시안분포)"
   ]
  },
  {
   "cell_type": "code",
   "execution_count": 14,
   "metadata": {},
   "outputs": [
    {
     "name": "stderr",
     "output_type": "stream",
     "text": [
      "C:\\Users\\B-7\\Anaconda3\\lib\\site-packages\\ipykernel_launcher.py:1: UserWarning: Update your `Dense` call to the Keras 2 API: `Dense(8, input_dim=4, activation=\"relu\", kernel_initializer=\"uniform\")`\n",
      "  \"\"\"Entry point for launching an IPython kernel.\n"
     ]
    }
   ],
   "source": [
    "model.add(Dense(8,input_dim=4, init='uniform', activation='relu'))\n",
    "# 입력 4, 출력 8 => 4개를 입력받아 8개를 출력하는 모델 정의\\\n",
    "model.add(Dense(1, activation='sigmoid'))\n",
    "\n"
   ]
  },
  {
   "cell_type": "code",
   "execution_count": null,
   "metadata": {},
   "outputs": [],
   "source": []
  }
 ],
 "metadata": {
  "kernelspec": {
   "display_name": "Python 3",
   "language": "python",
   "name": "python3"
  },
  "language_info": {
   "codemirror_mode": {
    "name": "ipython",
    "version": 3
   },
   "file_extension": ".py",
   "mimetype": "text/x-python",
   "name": "python",
   "nbconvert_exporter": "python",
   "pygments_lexer": "ipython3",
   "version": "3.6.5"
  }
 },
 "nbformat": 4,
 "nbformat_minor": 2
}
