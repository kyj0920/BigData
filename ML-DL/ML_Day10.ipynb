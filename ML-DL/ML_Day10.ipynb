{
 "cells": [
  {
   "cell_type": "code",
   "execution_count": 101,
   "metadata": {},
   "outputs": [
    {
     "name": "stderr",
     "output_type": "stream",
     "text": [
      "C:\\Users\\B-7\\Anaconda3\\lib\\site-packages\\tensorflow\\python\\client\\session.py:1702: UserWarning: An interactive session is already active. This can cause out-of-memory errors in some cases. You must explicitly call `InteractiveSession.close()` to release resources held by the other session(s).\n",
      "  warnings.warn('An interactive session is already active. This can '\n"
     ]
    }
   ],
   "source": [
    "import tensorflow as tf\n",
    "import numpy as np\n",
    "from tensorflow.contrib import rnn\n",
    "import pprint\n",
    "pp=pprint.PrettyPrinter(indent=4)\n",
    "tf.reset_default_graph()\n",
    "sess = tf.InteractiveSession()\n",
    "#Session()와 거의 유사, 정의된 노드를 seesion 객체 eval 함수 수행 "
   ]
  },
  {
   "cell_type": "code",
   "execution_count": 102,
   "metadata": {},
   "outputs": [],
   "source": [
    "h=[1,0,0,0]\n",
    "e=[0,1,0,0]\n",
    "l=[0,0,1,0]\n",
    "o=[0,0,0,1]"
   ]
  },
  {
   "cell_type": "code",
   "execution_count": 103,
   "metadata": {},
   "outputs": [
    {
     "name": "stdout",
     "output_type": "stream",
     "text": [
      "2 2\n",
      "array([[[1., 0., 0., 0.]]], dtype=float32)\n",
      "array([[[ 0.38746822, -0.4406506 ]]], dtype=float32)\n"
     ]
    }
   ],
   "source": [
    "with tf.variable_scope('one_cell') as scope:\n",
    "    hidden_size=2\n",
    "    cell=tf.contrib.rnn.BasicRNNCell(num_units=hidden_size)\n",
    "    print(cell.output_size, cell.state_size)\n",
    "    xdata=np.array([[h]], dtype=np.float32)\n",
    "    pp.pprint(xdata)\n",
    "    output, _states = tf.nn.dynamic_rnn(cell, xdata, dtype=tf.float32)\n",
    "    sess.run(tf.global_variables_initializer())\n",
    "    pp.pprint(output.eval())\n"
   ]
  },
  {
   "cell_type": "code",
   "execution_count": 104,
   "metadata": {},
   "outputs": [
    {
     "name": "stdout",
     "output_type": "stream",
     "text": [
      "(1, 5, 4)\n",
      "array([[[1., 0., 0., 0.],\n",
      "        [0., 1., 0., 0.],\n",
      "        [0., 0., 1., 0.],\n",
      "        [0., 0., 1., 0.],\n",
      "        [0., 0., 0., 1.]]], dtype=float32)\n",
      "array([[[ 0.6038574 ,  0.08811066],\n",
      "        [-0.13696282, -0.43274224],\n",
      "        [ 0.5921835 , -0.19798875],\n",
      "        [ 0.81095856,  0.2879693 ],\n",
      "        [-0.17979166, -0.06437916]]], dtype=float32)\n"
     ]
    }
   ],
   "source": [
    "with tf.variable_scope('two_sequences') as scope:\n",
    "    hidden_size=2\n",
    "    cell=tf.contrib.rnn.BasicRNNCell(num_units=hidden_size)\n",
    "    xdata=np.array([[h,e,l,l,o]], dtype=np.float32)\n",
    "    print(xdata.shape)\n",
    "    pp.pprint(xdata)\n",
    "    outputs, states=tf.nn.dynamic_rnn(cell, xdata, dtype=tf.float32)\n",
    "    sess.run(tf.global_variables_initializer())\n",
    "    pp.pprint(outputs.eval())"
   ]
  },
  {
   "cell_type": "code",
   "execution_count": 105,
   "metadata": {},
   "outputs": [
    {
     "name": "stdout",
     "output_type": "stream",
     "text": [
      "(3, 5, 4)\n",
      "array([[[1., 0., 0., 0.],\n",
      "        [0., 1., 0., 0.],\n",
      "        [0., 0., 1., 0.],\n",
      "        [0., 0., 1., 0.],\n",
      "        [0., 0., 0., 1.]],\n",
      "\n",
      "       [[0., 1., 0., 0.],\n",
      "        [0., 0., 0., 1.],\n",
      "        [0., 0., 1., 0.],\n",
      "        [0., 0., 1., 0.],\n",
      "        [0., 0., 1., 0.]],\n",
      "\n",
      "       [[0., 0., 1., 0.],\n",
      "        [0., 0., 1., 0.],\n",
      "        [0., 1., 0., 0.],\n",
      "        [0., 1., 0., 0.],\n",
      "        [0., 0., 1., 0.]]], dtype=float32)\n",
      "array([[[ 0.08085825,  0.10402066],\n",
      "        [-0.04780198,  0.16311891],\n",
      "        [ 0.07428766,  0.2790487 ],\n",
      "        [ 0.14849658,  0.3723005 ],\n",
      "        [ 0.09775919,  0.3016987 ]],\n",
      "\n",
      "       [[-0.12761089,  0.06537931],\n",
      "        [-0.10158084,  0.04547361],\n",
      "        [ 0.03099267,  0.17395328],\n",
      "        [ 0.11970399,  0.28412837],\n",
      "        [ 0.17162664,  0.37545094]],\n",
      "\n",
      "       [[ 0.08969265,  0.12636957],\n",
      "        [ 0.14760025,  0.24278697],\n",
      "        [ 0.02270011,  0.2634428 ],\n",
      "        [-0.0734803 ,  0.28904766],\n",
      "        [ 0.06768489,  0.38966534]]], dtype=float32)\n"
     ]
    }
   ],
   "source": [
    "with tf.variable_scope('3_batch') as scope:\n",
    "    hidden_size=2\n",
    "    cell=tf.contrib.rnn.BasicLSTMCell(num_units=hidden_size, state_is_tuple=True)\n",
    "    xdata=np.array([[h,e,l,l,o],\n",
    "                    [e,o,l,l,l],\n",
    "                    [l,l,e,e,l]], dtype=np.float32)\n",
    "    print(xdata.shape)\n",
    "    pp.pprint(xdata)\n",
    "    outputs, states=tf.nn.dynamic_rnn(cell, xdata, dtype=tf.float32)\n",
    "    sess.run(tf.global_variables_initializer())\n",
    "    pp.pprint(outputs.eval())"
   ]
  },
  {
   "cell_type": "code",
   "execution_count": 108,
   "metadata": {},
   "outputs": [
    {
     "name": "stdout",
     "output_type": "stream",
     "text": [
      "0 cost: 1.6303952 prediction:  [[3 3 3 3 3 3]] true Y:  [[1, 0, 2, 3, 3, 4]]\n",
      "Wt.예측 문자열:  llllll\n",
      "1 cost: 1.5466766 prediction:  [[3 3 3 3 3 3]] true Y:  [[1, 0, 2, 3, 3, 4]]\n",
      "Wt.예측 문자열:  llllll\n",
      "2 cost: 1.4876993 prediction:  [[3 3 3 3 3 3]] true Y:  [[1, 0, 2, 3, 3, 4]]\n",
      "Wt.예측 문자열:  llllll\n",
      "3 cost: 1.4339031 prediction:  [[3 3 3 3 3 3]] true Y:  [[1, 0, 2, 3, 3, 4]]\n",
      "Wt.예측 문자열:  llllll\n",
      "4 cost: 1.3666452 prediction:  [[3 3 3 3 3 3]] true Y:  [[1, 0, 2, 3, 3, 4]]\n",
      "Wt.예측 문자열:  llllll\n",
      "5 cost: 1.2775841 prediction:  [[2 3 2 3 3 3]] true Y:  [[1, 0, 2, 3, 3, 4]]\n",
      "Wt.예측 문자열:  elelll\n",
      "6 cost: 1.162534 prediction:  [[2 3 2 3 3 4]] true Y:  [[1, 0, 2, 3, 3, 4]]\n",
      "Wt.예측 문자열:  elello\n",
      "7 cost: 1.0274603 prediction:  [[1 3 2 3 3 4]] true Y:  [[1, 0, 2, 3, 3, 4]]\n",
      "Wt.예측 문자열:  ilello\n",
      "8 cost: 0.88003063 prediction:  [[1 0 2 3 3 4]] true Y:  [[1, 0, 2, 3, 3, 4]]\n",
      "Wt.예측 문자열:  ihello\n",
      "9 cost: 0.73032916 prediction:  [[1 0 2 3 3 4]] true Y:  [[1, 0, 2, 3, 3, 4]]\n",
      "Wt.예측 문자열:  ihello\n",
      "10 cost: 0.59424514 prediction:  [[1 0 2 3 3 4]] true Y:  [[1, 0, 2, 3, 3, 4]]\n",
      "Wt.예측 문자열:  ihello\n",
      "11 cost: 0.4810071 prediction:  [[1 0 2 3 3 4]] true Y:  [[1, 0, 2, 3, 3, 4]]\n",
      "Wt.예측 문자열:  ihello\n",
      "12 cost: 0.37765723 prediction:  [[1 0 2 3 3 4]] true Y:  [[1, 0, 2, 3, 3, 4]]\n",
      "Wt.예측 문자열:  ihello\n",
      "13 cost: 0.29483545 prediction:  [[1 0 2 3 3 4]] true Y:  [[1, 0, 2, 3, 3, 4]]\n",
      "Wt.예측 문자열:  ihello\n",
      "14 cost: 0.22912495 prediction:  [[1 0 2 3 3 4]] true Y:  [[1, 0, 2, 3, 3, 4]]\n",
      "Wt.예측 문자열:  ihello\n",
      "15 cost: 0.17219305 prediction:  [[1 0 2 3 3 4]] true Y:  [[1, 0, 2, 3, 3, 4]]\n",
      "Wt.예측 문자열:  ihello\n",
      "16 cost: 0.12825803 prediction:  [[1 0 2 3 3 4]] true Y:  [[1, 0, 2, 3, 3, 4]]\n",
      "Wt.예측 문자열:  ihello\n",
      "17 cost: 0.09708646 prediction:  [[1 0 2 3 3 4]] true Y:  [[1, 0, 2, 3, 3, 4]]\n",
      "Wt.예측 문자열:  ihello\n",
      "18 cost: 0.072705895 prediction:  [[1 0 2 3 3 4]] true Y:  [[1, 0, 2, 3, 3, 4]]\n",
      "Wt.예측 문자열:  ihello\n",
      "19 cost: 0.054985404 prediction:  [[1 0 2 3 3 4]] true Y:  [[1, 0, 2, 3, 3, 4]]\n",
      "Wt.예측 문자열:  ihello\n",
      "20 cost: 0.04314555 prediction:  [[1 0 2 3 3 4]] true Y:  [[1, 0, 2, 3, 3, 4]]\n",
      "Wt.예측 문자열:  ihello\n",
      "21 cost: 0.034046724 prediction:  [[1 0 2 3 3 4]] true Y:  [[1, 0, 2, 3, 3, 4]]\n",
      "Wt.예측 문자열:  ihello\n",
      "22 cost: 0.02685609 prediction:  [[1 0 2 3 3 4]] true Y:  [[1, 0, 2, 3, 3, 4]]\n",
      "Wt.예측 문자열:  ihello\n",
      "23 cost: 0.021818765 prediction:  [[1 0 2 3 3 4]] true Y:  [[1, 0, 2, 3, 3, 4]]\n",
      "Wt.예측 문자열:  ihello\n",
      "24 cost: 0.018186979 prediction:  [[1 0 2 3 3 4]] true Y:  [[1, 0, 2, 3, 3, 4]]\n",
      "Wt.예측 문자열:  ihello\n",
      "25 cost: 0.015137261 prediction:  [[1 0 2 3 3 4]] true Y:  [[1, 0, 2, 3, 3, 4]]\n",
      "Wt.예측 문자열:  ihello\n",
      "26 cost: 0.012548248 prediction:  [[1 0 2 3 3 4]] true Y:  [[1, 0, 2, 3, 3, 4]]\n",
      "Wt.예측 문자열:  ihello\n",
      "27 cost: 0.01055654 prediction:  [[1 0 2 3 3 4]] true Y:  [[1, 0, 2, 3, 3, 4]]\n",
      "Wt.예측 문자열:  ihello\n",
      "28 cost: 0.009107843 prediction:  [[1 0 2 3 3 4]] true Y:  [[1, 0, 2, 3, 3, 4]]\n",
      "Wt.예측 문자열:  ihello\n",
      "29 cost: 0.008001017 prediction:  [[1 0 2 3 3 4]] true Y:  [[1, 0, 2, 3, 3, 4]]\n",
      "Wt.예측 문자열:  ihello\n",
      "30 cost: 0.0070582954 prediction:  [[1 0 2 3 3 4]] true Y:  [[1, 0, 2, 3, 3, 4]]\n",
      "Wt.예측 문자열:  ihello\n",
      "31 cost: 0.0062046084 prediction:  [[1 0 2 3 3 4]] true Y:  [[1, 0, 2, 3, 3, 4]]\n",
      "Wt.예측 문자열:  ihello\n",
      "32 cost: 0.005445658 prediction:  [[1 0 2 3 3 4]] true Y:  [[1, 0, 2, 3, 3, 4]]\n",
      "Wt.예측 문자열:  ihello\n",
      "33 cost: 0.0048064245 prediction:  [[1 0 2 3 3 4]] true Y:  [[1, 0, 2, 3, 3, 4]]\n",
      "Wt.예측 문자열:  ihello\n",
      "34 cost: 0.0042922935 prediction:  [[1 0 2 3 3 4]] true Y:  [[1, 0, 2, 3, 3, 4]]\n",
      "Wt.예측 문자열:  ihello\n",
      "35 cost: 0.003885282 prediction:  [[1 0 2 3 3 4]] true Y:  [[1, 0, 2, 3, 3, 4]]\n",
      "Wt.예측 문자열:  ihello\n",
      "36 cost: 0.0035562522 prediction:  [[1 0 2 3 3 4]] true Y:  [[1, 0, 2, 3, 3, 4]]\n",
      "Wt.예측 문자열:  ihello\n",
      "37 cost: 0.0032775356 prediction:  [[1 0 2 3 3 4]] true Y:  [[1, 0, 2, 3, 3, 4]]\n",
      "Wt.예측 문자열:  ihello\n",
      "38 cost: 0.0030306652 prediction:  [[1 0 2 3 3 4]] true Y:  [[1, 0, 2, 3, 3, 4]]\n",
      "Wt.예측 문자열:  ihello\n",
      "39 cost: 0.0028076656 prediction:  [[1 0 2 3 3 4]] true Y:  [[1, 0, 2, 3, 3, 4]]\n",
      "Wt.예측 문자열:  ihello\n",
      "40 cost: 0.0026078224 prediction:  [[1 0 2 3 3 4]] true Y:  [[1, 0, 2, 3, 3, 4]]\n",
      "Wt.예측 문자열:  ihello\n",
      "41 cost: 0.0024330297 prediction:  [[1 0 2 3 3 4]] true Y:  [[1, 0, 2, 3, 3, 4]]\n",
      "Wt.예측 문자열:  ihello\n",
      "42 cost: 0.0022837701 prediction:  [[1 0 2 3 3 4]] true Y:  [[1, 0, 2, 3, 3, 4]]\n",
      "Wt.예측 문자열:  ihello\n",
      "43 cost: 0.002158201 prediction:  [[1 0 2 3 3 4]] true Y:  [[1, 0, 2, 3, 3, 4]]\n",
      "Wt.예측 문자열:  ihello\n",
      "44 cost: 0.0020523441 prediction:  [[1 0 2 3 3 4]] true Y:  [[1, 0, 2, 3, 3, 4]]\n",
      "Wt.예측 문자열:  ihello\n",
      "45 cost: 0.0019610485 prediction:  [[1 0 2 3 3 4]] true Y:  [[1, 0, 2, 3, 3, 4]]\n",
      "Wt.예측 문자열:  ihello\n",
      "46 cost: 0.001879772 prediction:  [[1 0 2 3 3 4]] true Y:  [[1, 0, 2, 3, 3, 4]]\n",
      "Wt.예측 문자열:  ihello\n",
      "47 cost: 0.001805055 prediction:  [[1 0 2 3 3 4]] true Y:  [[1, 0, 2, 3, 3, 4]]\n",
      "Wt.예측 문자열:  ihello\n",
      "48 cost: 0.0017349574 prediction:  [[1 0 2 3 3 4]] true Y:  [[1, 0, 2, 3, 3, 4]]\n",
      "Wt.예측 문자열:  ihello\n",
      "49 cost: 0.0016692983 prediction:  [[1 0 2 3 3 4]] true Y:  [[1, 0, 2, 3, 3, 4]]\n",
      "Wt.예측 문자열:  ihello\n"
     ]
    }
   ],
   "source": [
    "tf.reset_default_graph()\n",
    "\n",
    "#hihell -> ihello\n",
    "idx2char = ['h', 'i', 'e', 'l', 'o']\n",
    "x_data = [[0, 1, 0, 2, 3, 3]]   # hihell => 102334\n",
    "x_one_hot = [[[1, 0, 0, 0, 0],   # h 0\n",
    "              [0, 1, 0, 0, 0],   # i 1\n",
    "              [1, 0, 0, 0, 0],   # h 0\n",
    "              [0, 0, 1, 0, 0],   # e 2\n",
    "              [0, 0, 0, 1, 0],   # l 3\n",
    "              [0, 0, 0, 1, 0]]]  # l 3\n",
    "\n",
    "y_data = [[1, 0, 2, 3, 3, 4]]    # ihello\n",
    "\n",
    "input_dim = 5  # one-hot size\n",
    "hidden_size = 5  # output from the LSTM. \n",
    "batch_size = 1   # one sentence\n",
    "sequence_length = 6  # ihello == 6\n",
    "learning_rate = 0.1\n",
    "\n",
    "X = tf.placeholder(\n",
    "    tf.float32, [None, sequence_length, input_dim])  # X one-hot\n",
    "Y = tf.placeholder(tf.int32, [None, sequence_length])  # Y label\n",
    "\n",
    "cell = tf.contrib.rnn.BasicLSTMCell(num_units=hidden_size, state_is_tuple=True)\n",
    "initial_state = cell.zero_state(batch_size, tf.float32)\n",
    "outputs, _states = tf.nn.dynamic_rnn(\n",
    "    cell, X, initial_state=initial_state, dtype=tf.float32)\n",
    "\n",
    "# FC layer\n",
    "X_for_fc = tf.reshape(outputs, [-1, hidden_size])\n",
    "outputs = tf.contrib.layers.fully_connected(\n",
    "    inputs=X_for_fc, num_outputs=5, activation_fn=None)\n",
    "\n",
    "outputs = tf.reshape(outputs, [batch_size, sequence_length, 5])\n",
    "\n",
    "weights = tf.ones([batch_size, sequence_length])\n",
    "cost = tf.contrib.seq2seq.sequence_loss(\n",
    "    logits=outputs, targets=Y, weights=weights)\n",
    "rcost = tf.reduce_mean(cost)\n",
    "train = tf.train.AdamOptimizer(learning_rate=learning_rate).minimize(rcost)\n",
    "\n",
    "prediction = tf.argmax(outputs, axis=2)\n",
    "\n",
    "with tf.Session() as sess:\n",
    "    sess.run(tf.global_variables_initializer())\n",
    "    for i in range(50):\n",
    "        l, _ = sess.run([rcost, train], feed_dict={X: x_one_hot, Y: y_data})\n",
    "        result = sess.run(prediction, feed_dict={X: x_one_hot})\n",
    "        print(i, \"cost:\", l, \"prediction: \", result, \"true Y: \", y_data)\n",
    "        \n",
    "        res_str=[idx2char[c] for c in np.squeeze(result)]\n",
    "        print(\"Wt.예측 문자열: \", \"\".join(res_str))"
   ]
  },
  {
   "cell_type": "code",
   "execution_count": 122,
   "metadata": {},
   "outputs": [
    {
     "data": {
      "text/plain": [
       "(3,)"
      ]
     },
     "execution_count": 122,
     "metadata": {},
     "output_type": "execute_result"
    }
   ],
   "source": [
    "#squeeze(차원 감소) <-> expanddims(차원 증가)\n",
    "x=np.array([1,2])\n",
    "x.shape\n",
    "y=np.expand_dims(x, axis=1) #2행 1열\n",
    "y\n",
    "y=np.expand_dims(x, axis=0) #1행 2열\n",
    "y\n",
    "\n",
    "x=np.array([[[0],[1],[2]]])\n",
    "x.shape #(1,3,1)\n",
    "np.squeeze(x, axis=0) #(3,1)\n",
    "np.squeeze(x, axis=2) #(1,3) \n",
    "\n",
    "\n",
    "x=np.array([[[0],[1],[2]]])\n",
    "x=np.squeeze(x) #array([0,1,2])\n",
    "x\n",
    "np.shape(x) #(3,)"
   ]
  },
  {
   "cell_type": "code",
   "execution_count": null,
   "metadata": {},
   "outputs": [],
   "source": []
  },
  {
   "cell_type": "code",
   "execution_count": null,
   "metadata": {},
   "outputs": [],
   "source": []
  },
  {
   "cell_type": "code",
   "execution_count": null,
   "metadata": {},
   "outputs": [],
   "source": []
  }
 ],
 "metadata": {
  "kernelspec": {
   "display_name": "Python 3",
   "language": "python",
   "name": "python3"
  },
  "language_info": {
   "codemirror_mode": {
    "name": "ipython",
    "version": 3
   },
   "file_extension": ".py",
   "mimetype": "text/x-python",
   "name": "python",
   "nbconvert_exporter": "python",
   "pygments_lexer": "ipython3",
   "version": "3.6.5"
  }
 },
 "nbformat": 4,
 "nbformat_minor": 2
}
