{
 "cells": [
  {
   "cell_type": "code",
   "execution_count": 44,
   "metadata": {},
   "outputs": [],
   "source": [
    "import nltk"
   ]
  },
  {
   "cell_type": "code",
   "execution_count": 45,
   "metadata": {},
   "outputs": [],
   "source": [
    "from nltk.tokenize import word_tokenize, WordPunctTokenizer, sent_tokenize"
   ]
  },
  {
   "cell_type": "code",
   "execution_count": 46,
   "metadata": {},
   "outputs": [
    {
     "data": {
      "text/plain": [
       "['One-way', ',', 'or', 'round-triap', '?']"
      ]
     },
     "execution_count": 46,
     "metadata": {},
     "output_type": "execute_result"
    }
   ],
   "source": [
    "word_tokenize(\"One-way, or round-triap?\")"
   ]
  },
  {
   "cell_type": "code",
   "execution_count": 47,
   "metadata": {},
   "outputs": [
    {
     "data": {
      "text/plain": [
       "['Round', '-', 'trip', 'please', '.']"
      ]
     },
     "execution_count": 47,
     "metadata": {},
     "output_type": "execute_result"
    }
   ],
   "source": [
    "WordPunctTokenizer().tokenize(\"Round-trip please.\")"
   ]
  },
  {
   "cell_type": "code",
   "execution_count": 48,
   "metadata": {},
   "outputs": [],
   "source": [
    "text=\"Python is an interpreted, high-level, general-purpose programming language. Created by Guido van Rossum and first released in 1991, Python's design philosophy emphasizes code readability with its notable use of significant whitespace. Its language constructs and object-oriented approach aims to help programmers write clear, logical code for small and large-scale projects.\""
   ]
  },
  {
   "cell_type": "code",
   "execution_count": 49,
   "metadata": {},
   "outputs": [
    {
     "data": {
      "text/plain": [
       "['Python is an interpreted, high-level, general-purpose programming language.',\n",
       " \"Created by Guido van Rossum and first released in 1991, Python's design philosophy emphasizes code readability with its notable use of significant whitespace.\",\n",
       " 'Its language constructs and object-oriented approach aims to help programmers write clear, logical code for small and large-scale projects.']"
      ]
     },
     "execution_count": 49,
     "metadata": {},
     "output_type": "execute_result"
    }
   ],
   "source": [
    "sent_tokenize(text)"
   ]
  },
  {
   "cell_type": "code",
   "execution_count": 50,
   "metadata": {},
   "outputs": [
    {
     "data": {
      "text/plain": [
       "[('Python', 'NNP'),\n",
       " ('is', 'VBZ'),\n",
       " ('an', 'DT'),\n",
       " ('interpreted', 'JJ'),\n",
       " (',', ','),\n",
       " ('high-level', 'JJ'),\n",
       " (',', ','),\n",
       " ('general-purpose', 'JJ'),\n",
       " ('programming', 'NN'),\n",
       " ('language', 'NN'),\n",
       " ('.', '.'),\n",
       " ('Created', 'VBN'),\n",
       " ('by', 'IN'),\n",
       " ('Guido', 'NNP'),\n",
       " ('van', 'NN'),\n",
       " ('Rossum', 'NNP'),\n",
       " ('and', 'CC'),\n",
       " ('first', 'RB'),\n",
       " ('released', 'VBN'),\n",
       " ('in', 'IN'),\n",
       " ('1991', 'CD'),\n",
       " (',', ','),\n",
       " ('Python', 'NNP'),\n",
       " (\"'s\", 'POS'),\n",
       " ('design', 'NN'),\n",
       " ('philosophy', 'NN'),\n",
       " ('emphasizes', 'VBZ'),\n",
       " ('code', 'JJ'),\n",
       " ('readability', 'NN'),\n",
       " ('with', 'IN'),\n",
       " ('its', 'PRP$'),\n",
       " ('notable', 'JJ'),\n",
       " ('use', 'NN'),\n",
       " ('of', 'IN'),\n",
       " ('significant', 'JJ'),\n",
       " ('whitespace', 'NN'),\n",
       " ('.', '.'),\n",
       " ('Its', 'PRP$'),\n",
       " ('language', 'NN'),\n",
       " ('constructs', 'NNS'),\n",
       " ('and', 'CC'),\n",
       " ('object-oriented', 'JJ'),\n",
       " ('approach', 'NN'),\n",
       " ('aims', 'VBZ'),\n",
       " ('to', 'TO'),\n",
       " ('help', 'VB'),\n",
       " ('programmers', 'NNS'),\n",
       " ('write', 'VB'),\n",
       " ('clear', 'JJ'),\n",
       " (',', ','),\n",
       " ('logical', 'JJ'),\n",
       " ('code', 'NN'),\n",
       " ('for', 'IN'),\n",
       " ('small', 'JJ'),\n",
       " ('and', 'CC'),\n",
       " ('large-scale', 'JJ'),\n",
       " ('projects', 'NNS'),\n",
       " ('.', '.')]"
      ]
     },
     "execution_count": 50,
     "metadata": {},
     "output_type": "execute_result"
    }
   ],
   "source": [
    "from nltk.tag import pos_tag\n",
    "text2=\"Python is an interpreted, high-level, general-purpose programming language. Created by Guido van Rossum and first released in 1991, Python's design philosophy emphasizes code readability with its notable use of significant whitespace. Its language constructs and object-oriented approach aims to help programmers write clear, logical code for small and large-scale projects.\"\n",
    "x=word_tokenize(text2)\n",
    "pos_tag(x)"
   ]
  },
  {
   "cell_type": "code",
   "execution_count": 51,
   "metadata": {},
   "outputs": [],
   "source": [
    "from konlpy.tag import Okt\n",
    "okt=Okt()"
   ]
  },
  {
   "cell_type": "code",
   "execution_count": 52,
   "metadata": {},
   "outputs": [
    {
     "name": "stdout",
     "output_type": "stream",
     "text": [
      "['공부', '여러분', '내일', '금요일', '더', '열']\n",
      "[('열심히', 'Adverb'), ('공부', 'Noun'), ('한', 'Josa'), ('여러분', 'Noun'), (',', 'Punctuation'), ('내일', 'Noun'), ('은', 'Josa'), ('금요일', 'Noun'), ('입니다', 'Adjective'), ('.', 'Punctuation'), ('더', 'Noun'), ('열', 'Noun'), ('미히', 'Adjective'), ('하세요', 'Verb')]\n"
     ]
    }
   ],
   "source": [
    "okt.morphs(\"열심히 공부한 여러분, 내일은 금요일 입니다. 더 열미히 하세요\") #형태소 추출\n",
    "print(okt.nouns(\"열심히 공부한 여러분, 내일은 금요일 입니다. 더 열미히 하세요\")) #형태소 추출\n",
    "print(okt.pos(\"열심히 공부한 여러분, 내일은 금요일 입니다. 더 열미히 하세요\")) #형태소 추출"
   ]
  },
  {
   "cell_type": "code",
   "execution_count": 53,
   "metadata": {},
   "outputs": [],
   "source": [
    "# 표제어 추출, 어간 추출\n",
    "# lemma => 단어 뿌리, ex) am, are, is => be(Lemma)\n",
    "words=['are', 'is', 'doing', 'organization']\n",
    "from nltk.stem import WordNetLemmatizer\n",
    "n=WordNetLemmatizer()"
   ]
  },
  {
   "cell_type": "code",
   "execution_count": 54,
   "metadata": {},
   "outputs": [
    {
     "data": {
      "text/plain": [
       "['are', 'is', 'doing', 'organization']"
      ]
     },
     "execution_count": 54,
     "metadata": {},
     "output_type": "execute_result"
    }
   ],
   "source": [
    "[n.lemmatize(w) for w in words]\n",
    "    "
   ]
  },
  {
   "cell_type": "code",
   "execution_count": 55,
   "metadata": {},
   "outputs": [
    {
     "data": {
      "text/plain": [
       "'have'"
      ]
     },
     "execution_count": 55,
     "metadata": {},
     "output_type": "execute_result"
    }
   ],
   "source": [
    "n.lemmatize('has','v')"
   ]
  },
  {
   "cell_type": "code",
   "execution_count": 56,
   "metadata": {},
   "outputs": [
    {
     "data": {
      "text/plain": [
       "'walk'"
      ]
     },
     "execution_count": 56,
     "metadata": {},
     "output_type": "execute_result"
    }
   ],
   "source": [
    "n.lemmatize('walked', 'v')"
   ]
  },
  {
   "cell_type": "code",
   "execution_count": 57,
   "metadata": {},
   "outputs": [
    {
     "data": {
      "text/plain": [
       "'histor'"
      ]
     },
     "execution_count": 57,
     "metadata": {},
     "output_type": "execute_result"
    }
   ],
   "source": [
    "from nltk.stem import PorterStemmer\n",
    "s=PorterStemmer()\n",
    "s.stem('Bones')\n",
    "s.stem('formalize')\n",
    "s.stem('historical')"
   ]
  },
  {
   "cell_type": "code",
   "execution_count": 58,
   "metadata": {},
   "outputs": [
    {
     "data": {
      "text/plain": [
       "179"
      ]
     },
     "execution_count": 58,
     "metadata": {},
     "output_type": "execute_result"
    }
   ],
   "source": [
    "#불용어(stopword): 분석하는데 있어서, 의미가 없는(불필요한) 단어\n",
    "#ex) 조사, 접미사, 접속사\n",
    "from nltk.corpus import stopwords\n",
    "len(stopwords.words('english'))"
   ]
  },
  {
   "cell_type": "code",
   "execution_count": 59,
   "metadata": {},
   "outputs": [],
   "source": [
    "#text에 저장된 단어들 중 불용어 제거\n",
    "stop_words=stopwords.words('english')\n",
    "word_tokens=word_tokenize(text)"
   ]
  },
  {
   "cell_type": "code",
   "execution_count": 60,
   "metadata": {},
   "outputs": [
    {
     "name": "stdout",
     "output_type": "stream",
     "text": [
      "['Python', 'interpreted', ',', 'high-level', ',', 'general-purpose', 'programming', 'language', '.', 'Created', 'Guido', 'van', 'Rossum', 'first', 'released', '1991', ',', 'Python', \"'s\", 'design', 'philosophy', 'emphasizes', 'code', 'readability', 'notable', 'use', 'significant', 'whitespace', '.', 'Its', 'language', 'constructs', 'object-oriented', 'approach', 'aims', 'help', 'programmers', 'write', 'clear', ',', 'logical', 'code', 'small', 'large-scale', 'projects', '.']\n"
     ]
    }
   ],
   "source": [
    "res=[]\n",
    "for w in word_tokens:\n",
    "    if w not in stop_words:\n",
    "        res.append(w)\n",
    "print(res)"
   ]
  },
  {
   "cell_type": "code",
   "execution_count": 61,
   "metadata": {},
   "outputs": [],
   "source": [
    "textKor=\"데이터분석은 그럭저럭 할만해. 그런데, 머신러닝은 더 할만해. 심지어 딥러닝은 매우 재미있어.\"\n",
    "stopwords=\"그런데 심지어 더 할만해\"\n",
    "stopwords=stopwords.split(' ')"
   ]
  },
  {
   "cell_type": "code",
   "execution_count": 62,
   "metadata": {},
   "outputs": [
    {
     "name": "stdout",
     "output_type": "stream",
     "text": [
      "['데이터분석은', '그럭저럭', '.', ',', '머신러닝은', '.', '딥러닝은', '매우', '재미있어', '.']\n"
     ]
    }
   ],
   "source": [
    "word_tokens=word_tokenize(textKor)\n",
    "res=[]\n",
    "for w in word_tokens:\n",
    "    if w not in stopwords:\n",
    "        res.append(w)\n",
    "print(res)"
   ]
  },
  {
   "cell_type": "code",
   "execution_count": 64,
   "metadata": {},
   "outputs": [
    {
     "data": {
      "text/plain": [
       "['Python is an interpreted, high-level, general-purpose programming language.',\n",
       " \"Created by Guido van Rossum and first released in 1991, Python's design philosophy emphasizes code readability with its notable use of significant whitespace.\",\n",
       " 'Its language constructs and object-oriented approach aims to help programmers write clear, logical code for small and large-scale projects.']"
      ]
     },
     "execution_count": 64,
     "metadata": {},
     "output_type": "execute_result"
    }
   ],
   "source": [
    "text3 = sent_tokenize(text)\n",
    "text3"
   ]
  },
  {
   "cell_type": "code",
   "execution_count": 69,
   "metadata": {},
   "outputs": [
    {
     "name": "stdout",
     "output_type": "stream",
     "text": [
      "['Its', 'language', 'constructs', 'and', 'object-oriented', 'approach', 'aims', 'to', 'help', 'programmers', 'write', 'clear', ',', 'logical', 'code', 'for', 'small', 'and', 'large-scale', 'projects', '.', ['python', 'interpreted', 'high-level', 'general-purpose', 'programming', 'language']]\n"
     ]
    }
   ],
   "source": [
    "from collections import Counter\n",
    "vocab=Counter()\n",
    "setences=[]\n",
    "for i in text3:\n",
    "    sentences=word_tokenize(i)\n",
    "    res=[]\n",
    "    for word in sentence:\n",
    "        word=word.lower()\n",
    "        if word not in stop_words:\n",
    "            if len(word)>2:\n",
    "                res.append(word)\n",
    "                vocab[word]=vocab[word]+1\n",
    "    sentences.append(res)\n",
    "print(sentences)"
   ]
  },
  {
   "cell_type": "code",
   "execution_count": 71,
   "metadata": {},
   "outputs": [],
   "source": [
    "#keras설치 : pip install keras\n",
    "from keras.preprocessing.text import Tokenizer"
   ]
  },
  {
   "cell_type": "code",
   "execution_count": 78,
   "metadata": {},
   "outputs": [],
   "source": [
    "text=[\"Python is an interpreted, high-level, general-purpose programming language. Created by Guido van Rossum and first released in 1991, Python's design philosophy emphasizes code readability with its notable use of significant whitespace. Its language constructs and object-oriented approach aims to help programmers write clear, logical code for small and large-scale projects.Python is dynamically typed and garbage-collected. It supports multiple programming paradigms, including procedural, object-oriented, and functional programming. Python is often described as a batteries included language due to its comprehensive standard library. Python was conceived in the late 1980s as a successor to the ABC language. Python 2.0, released 2000, introduced features like list comprehensions and a garbage collection system capable of collecting reference cycles. Python 3.0, released 2008, was a major revision of the language that is not completely backward-compatible, and much Python 2 code does not run unmodified on Python 3. Due to concern about the amount of code written for Python 2, support for Python 2.7 (the last release in the 2.x series) was extended to 2020. Language developer Guido van Rossum shouldered sole responsibility for the project until July 2018 but now shares his leadership as a member of a five-person steering council. Python interpreters are available for many operating systems. A global community of programmers develops and maintains CPython, an open source[32] reference implementation. A non-profit organization, the Python Software Foundation, manages and directs resources for Python and CPython development.\"]\n",
    "t=Tokenizer()\n",
    "t.fit_on_texts(text) #정수 인코딩\n",
    "# "
   ]
  },
  {
   "cell_type": "code",
   "execution_count": 79,
   "metadata": {},
   "outputs": [
    {
     "name": "stdout",
     "output_type": "stream",
     "text": [
      "{'python': 1, 'and': 2, 'a': 3, 'the': 4, 'language': 5, 'of': 6, 'for': 7, 'to': 8, '2': 9, 'is': 10, 'code': 11, 'programming': 12, 'released': 13, 'in': 14, 'its': 15, 'as': 16, 'was': 17, 'an': 18, 'guido': 19, 'van': 20, 'rossum': 21, 'object': 22, 'oriented': 23, 'programmers': 24, 'garbage': 25, 'due': 26, '0': 27, 'reference': 28, '3': 29, 'not': 30, 'cpython': 31, 'interpreted': 32, 'high': 33, 'level': 34, 'general': 35, 'purpose': 36, 'created': 37, 'by': 38, 'first': 39, '1991': 40, \"python's\": 41, 'design': 42, 'philosophy': 43, 'emphasizes': 44, 'readability': 45, 'with': 46, 'notable': 47, 'use': 48, 'significant': 49, 'whitespace': 50, 'constructs': 51, 'approach': 52, 'aims': 53, 'help': 54, 'write': 55, 'clear': 56, 'logical': 57, 'small': 58, 'large': 59, 'scale': 60, 'projects': 61, 'dynamically': 62, 'typed': 63, 'collected': 64, 'it': 65, 'supports': 66, 'multiple': 67, 'paradigms': 68, 'including': 69, 'procedural': 70, 'functional': 71, 'often': 72, 'described': 73, 'batteries': 74, 'included': 75, 'comprehensive': 76, 'standard': 77, 'library': 78, 'conceived': 79, 'late': 80, '1980s': 81, 'successor': 82, 'abc': 83, '2000': 84, 'introduced': 85, 'features': 86, 'like': 87, 'list': 88, 'comprehensions': 89, 'collection': 90, 'system': 91, 'capable': 92, 'collecting': 93, 'cycles': 94, '2008': 95, 'major': 96, 'revision': 97, 'that': 98, 'completely': 99, 'backward': 100, 'compatible': 101, 'much': 102, 'does': 103, 'run': 104, 'unmodified': 105, 'on': 106, 'concern': 107, 'about': 108, 'amount': 109, 'written': 110, 'support': 111, '7': 112, 'last': 113, 'release': 114, 'x': 115, 'series': 116, 'extended': 117, '2020': 118, 'developer': 119, 'shouldered': 120, 'sole': 121, 'responsibility': 122, 'project': 123, 'until': 124, 'july': 125, '2018': 126, 'but': 127, 'now': 128, 'shares': 129, 'his': 130, 'leadership': 131, 'member': 132, 'five': 133, 'person': 134, 'steering': 135, 'council': 136, 'interpreters': 137, 'are': 138, 'available': 139, 'many': 140, 'operating': 141, 'systems': 142, 'global': 143, 'community': 144, 'develops': 145, 'maintains': 146, 'open': 147, 'source': 148, '32': 149, 'implementation': 150, 'non': 151, 'profit': 152, 'organization': 153, 'software': 154, 'foundation': 155, 'manages': 156, 'directs': 157, 'resources': 158, 'development': 159}\n",
      "==================================================\n",
      "[[1, 10, 18, 32, 33, 34, 35, 36, 12, 5, 37, 38, 19, 20, 21, 2, 39, 13, 14, 40, 41, 42, 43, 44, 11, 45, 46, 15, 47, 48, 6, 49, 50, 15, 5, 51, 2, 22, 23, 52, 53, 8, 54, 24, 55, 56, 57, 11, 7, 58, 2, 59, 60, 61, 1, 10, 62, 63, 2, 25, 64, 65, 66, 67, 12, 68, 69, 70, 22, 23, 2, 71, 12, 1, 10, 72, 73, 16, 3, 74, 75, 5, 26, 8, 15, 76, 77, 78, 1, 17, 79, 14, 4, 80, 81, 16, 3, 82, 8, 4, 83, 5, 1, 9, 27, 13, 84, 85, 86, 87, 88, 89, 2, 3, 25, 90, 91, 92, 6, 93, 28, 94, 1, 29, 27, 13, 95, 17, 3, 96, 97, 6, 4, 5, 98, 10, 30, 99, 100, 101, 2, 102, 1, 9, 11, 103, 30, 104, 105, 106, 1, 29, 26, 8, 107, 108, 4, 109, 6, 11, 110, 7, 1, 9, 111, 7, 1, 9, 112, 4, 113, 114, 14, 4, 9, 115, 116, 17, 117, 8, 118, 5, 119, 19, 20, 21, 120, 121, 122, 7, 4, 123, 124, 125, 126, 127, 128, 129, 130, 131, 16, 3, 132, 6, 3, 133, 134, 135, 136, 1, 137, 138, 139, 7, 140, 141, 142, 3, 143, 144, 6, 24, 145, 2, 146, 31, 18, 147, 148, 149, 28, 150, 3, 151, 152, 153, 4, 1, 154, 155, 156, 2, 157, 158, 7, 1, 2, 31, 159]]\n"
     ]
    }
   ],
   "source": [
    "print(t.word_index)\n",
    "# print(t.word_counts)\n",
    "print(\"=\"*50)\n",
    "print(t.texts_to_sequences(text))"
   ]
  },
  {
   "cell_type": "code",
   "execution_count": 91,
   "metadata": {},
   "outputs": [],
   "source": [
    "test=['love','love','love','money','money','money','money','money']\n",
    "from nltk import FreqDist"
   ]
  },
  {
   "cell_type": "code",
   "execution_count": 92,
   "metadata": {},
   "outputs": [
    {
     "data": {
      "text/plain": [
       "8"
      ]
     },
     "execution_count": 92,
     "metadata": {},
     "output_type": "execute_result"
    }
   ],
   "source": [
    "ft=FreqDist(test)\n",
    "ft.N()"
   ]
  },
  {
   "cell_type": "code",
   "execution_count": 93,
   "metadata": {},
   "outputs": [
    {
     "data": {
      "text/plain": [
       "0.375"
      ]
     },
     "execution_count": 93,
     "metadata": {},
     "output_type": "execute_result"
    }
   ],
   "source": [
    "ft.freq(\"love\") #3/8"
   ]
  },
  {
   "cell_type": "code",
   "execution_count": 94,
   "metadata": {},
   "outputs": [
    {
     "data": {
      "text/plain": [
       "5"
      ]
     },
     "execution_count": 94,
     "metadata": {},
     "output_type": "execute_result"
    }
   ],
   "source": [
    "ft['money']"
   ]
  },
  {
   "cell_type": "code",
   "execution_count": 90,
   "metadata": {},
   "outputs": [
    {
     "data": {
      "text/plain": [
       "[('money', 5)]"
      ]
     },
     "execution_count": 90,
     "metadata": {},
     "output_type": "execute_result"
    }
   ],
   "source": [
    "ft.most_common(1) #가장 많이 등장한 단어 1개를 추출"
   ]
  },
  {
   "cell_type": "code",
   "execution_count": 101,
   "metadata": {},
   "outputs": [
    {
     "name": "stdout",
     "output_type": "stream",
     "text": [
      "{'할만해': 1, '러닝은': 2, '더': 3, '데이터분석은': 4, '그럭저럭': 5, '그런데': 6, '머신': 7, '심지어': 8, '딥': 9}\n"
     ]
    }
   ],
   "source": [
    "#텍스트 원핫 인코딩\n",
    "textKor=\"데이터분석은 그럭저럭 할만해. 그런데, 머신 러닝은 더 할만해. 심지어 딥 러닝은 더 할만해.\"\n",
    "from keras_preprocessing.text import Tokenizer\n",
    "token = Tokenizer()\n",
    "token.fit_on_texts([textKor])\n",
    "print(token.word_index)"
   ]
  },
  {
   "cell_type": "code",
   "execution_count": 108,
   "metadata": {},
   "outputs": [],
   "source": [
    "textKor2=\"이 러닝은 머신 러닝보다 더 할만해\"\n",
    "x=token.texts_to_sequences([textKor2]) #[[2, 7, 3, 1]]"
   ]
  },
  {
   "cell_type": "code",
   "execution_count": 106,
   "metadata": {},
   "outputs": [],
   "source": [
    "vocab_size=len(token.word_index)"
   ]
  },
  {
   "cell_type": "code",
   "execution_count": 110,
   "metadata": {},
   "outputs": [
    {
     "data": {
      "text/plain": [
       "array([[[0., 0., 1., 0., 0., 0., 0., 0., 0., 0.],\n",
       "        [0., 0., 0., 0., 0., 0., 0., 1., 0., 0.],\n",
       "        [0., 0., 0., 1., 0., 0., 0., 0., 0., 0.],\n",
       "        [0., 1., 0., 0., 0., 0., 0., 0., 0., 0.]]], dtype=float32)"
      ]
     },
     "execution_count": 110,
     "metadata": {},
     "output_type": "execute_result"
    }
   ],
   "source": [
    "#원핫벡터\n",
    "from keras.utils import to_categorical\n",
    "x=to_categorical(x, num_classes=vocab_size+1)\n",
    "x"
   ]
  },
  {
   "cell_type": "code",
   "execution_count": null,
   "metadata": {},
   "outputs": [],
   "source": []
  }
 ],
 "metadata": {
  "kernelspec": {
   "display_name": "Python 3",
   "language": "python",
   "name": "python3"
  },
  "language_info": {
   "codemirror_mode": {
    "name": "ipython",
    "version": 3
   },
   "file_extension": ".py",
   "mimetype": "text/x-python",
   "name": "python",
   "nbconvert_exporter": "python",
   "pygments_lexer": "ipython3",
   "version": "3.6.5"
  }
 },
 "nbformat": 4,
 "nbformat_minor": 2
}
